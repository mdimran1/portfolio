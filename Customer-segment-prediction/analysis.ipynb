{
  "nbformat": 4,
  "nbformat_minor": 0,
  "metadata": {
    "colab": {
      "name": "github_customer.ipynb",
      "provenance": [],
      "collapsed_sections": [
        "xvsxkhYsnnQL"
      ],
      "authorship_tag": "ABX9TyMUfklED5VrecjtpK0mingA"
    },
    "kernelspec": {
      "name": "python3",
      "display_name": "Python 3"
    },
    "language_info": {
      "name": "python"
    }
  },
  "cells": [
    {
      "cell_type": "markdown",
      "metadata": {
        "id": "_DFfe9t2L6U5"
      },
      "source": [
        "# Finding Customer Insights\n",
        "\n",
        "---\n",
        " Needed to answer or explore things as below :\n",
        "\n",
        "*   What is the overall customer response?\n",
        "*   Which group of customers are loyal?\n",
        "*   Segmenting customers and their personality\n",
        "*   Predicting next promotion response\n"
      ]
    },
    {
      "cell_type": "markdown",
      "metadata": {
        "id": "lzdrTj1NSX4A"
      },
      "source": [
        "# Data wrangling"
      ]
    },
    {
      "cell_type": "markdown",
      "metadata": {
        "id": "tMBnb59yQ5Xs"
      },
      "source": [
        "\n",
        "\n",
        "*   Importing data set from my github repository\n",
        "*   Explore Data and description\n",
        "*   Identify and handle missing values\n",
        "*   Data Formating\n",
        "*   Data Standardization & normalization\n",
        "\n",
        "\n",
        "\n",
        "\n",
        "\n"
      ]
    },
    {
      "cell_type": "code",
      "metadata": {
        "id": "-5Bha4XtI1P3",
        "executionInfo": {
          "status": "ok",
          "timestamp": 1640957436621,
          "user_tz": -360,
          "elapsed": 650,
          "user": {
            "displayName": "Md Imran",
            "photoUrl": "https://lh3.googleusercontent.com/a/default-user=s64",
            "userId": "07022913227487839600"
          }
        }
      },
      "source": [
        "import pandas as pd\n",
        "import numpy as np\n",
        "data = pd.read_csv('https://github.com/mdimran1/Dataset/blob/main/marketing_campaign.csv?raw=true', sep='\\t') \n"
      ],
      "execution_count": 1,
      "outputs": []
    },
    {
      "cell_type": "markdown",
      "source": [
        "## Explore data and feature description\n",
        "\n"
      ],
      "metadata": {
        "id": "hZXIH12Om94Y"
      }
    },
    {
      "cell_type": "markdown",
      "metadata": {
        "id": "uKUT_aWjQg4f"
      },
      "source": [
        "\n",
        "\n",
        "\n",
        "\n",
        "<b>Dataset contains total 2240 records and 29 features. Target column or \n",
        "\n",
        "feature is response which indicates binary records of the latest promotion that customers has been taken. Primary Feature decription are as below :</b>\n",
        "\n",
        "\n",
        "\n",
        "0   ID : Customer's unique identity\n",
        "\n",
        "1   Year_Birth : Customer's birth year & easy to find age\n",
        "\n",
        "2   Education : Maximum education level\n",
        "\n",
        "3   Marital_Status : married or others\n",
        "\n",
        "4   Income : Amount of earning, Needed to normalize or binning \n",
        "\n",
        "5   Kidhome : No. of kids [ according google teen ages = under 12]\n",
        "\n",
        "6   Teenhome : No. of teens [ according google teen ages = 13 to 19]\n",
        "\n",
        "7   Dt_Customer : When customers are envolved\n",
        "\n",
        "8   Recency : count of days last ordered\n",
        "\n",
        "9   MntWines : Total amount as spent on wine\n",
        "\n",
        "10   MntFruits : Total amount as spent on Fruits\n",
        "\n",
        "11   MntMeatProducts : Total amount as spent on Meat\n",
        "\n",
        "12   MntFishProducts : Total amount as spent on Fish\n",
        "\n",
        "13   MntSweetProducts : Total amount as spent on Sweet\n",
        "\n",
        "14   MntGoldProds : Total amount as spent on Gold\n",
        "\n",
        "15   NumDealsPurchases : Counts of purchases with discount\n",
        "\n",
        "16   NumWebPurchases : purchased by company’s web site\n",
        "\n",
        "17   NumCatalogPurchases : Number of purchases made using a catalogue\n",
        "\n",
        "18   NumStorePurchases : Number of purchases from store\n",
        "\n",
        "19   NumWebVisitsMonth : Number of visits to company’s web site \n",
        "\n",
        "20   AcceptedCmp3 : Does customer accepted the offer campaign 3?\n",
        "\n",
        "21   AcceptedCmp4 : Does customer accepted the offer campaign 4?\n",
        "\n",
        "22   AcceptedCmp5 : Does customer accepted the offer campaign 5?\n",
        "\n",
        "23   AcceptedCmp1 : Does customer accepted the offer campaign 1?\n",
        "\n",
        "24   AcceptedCmp2 : Does customer accepted the offer campaign 2?\n",
        "\n",
        "25   Complain : Has any cpmplain? (1 or 0)\n",
        "\n",
        "26   Z_CostContact : This feature has constant 3 only\n",
        "\n",
        "27   Z_Revenue : This feature has constant 11 only\n",
        "\n",
        "28   Response: Target feature"
      ]
    },
    {
      "cell_type": "code",
      "source": [
        "# data sample with both top & last 5 records\n",
        "data.head(-5)"
      ],
      "metadata": {
        "colab": {
          "base_uri": "https://localhost:8080/",
          "height": 488
        },
        "id": "erI5bCCHkd0s",
        "executionInfo": {
          "status": "ok",
          "timestamp": 1640957437990,
          "user_tz": -360,
          "elapsed": 300,
          "user": {
            "displayName": "Md Imran",
            "photoUrl": "https://lh3.googleusercontent.com/a/default-user=s64",
            "userId": "07022913227487839600"
          }
        },
        "outputId": "500e46b4-5223-45ac-add6-6b8af0d2adf1"
      },
      "execution_count": 2,
      "outputs": [
        {
          "output_type": "execute_result",
          "data": {
            "text/html": [
              "\n",
              "  <div id=\"df-1cba22fe-c4ab-4e93-b3ad-c24f88985cd9\">\n",
              "    <div class=\"colab-df-container\">\n",
              "      <div>\n",
              "<style scoped>\n",
              "    .dataframe tbody tr th:only-of-type {\n",
              "        vertical-align: middle;\n",
              "    }\n",
              "\n",
              "    .dataframe tbody tr th {\n",
              "        vertical-align: top;\n",
              "    }\n",
              "\n",
              "    .dataframe thead th {\n",
              "        text-align: right;\n",
              "    }\n",
              "</style>\n",
              "<table border=\"1\" class=\"dataframe\">\n",
              "  <thead>\n",
              "    <tr style=\"text-align: right;\">\n",
              "      <th></th>\n",
              "      <th>ID</th>\n",
              "      <th>Year_Birth</th>\n",
              "      <th>Education</th>\n",
              "      <th>Marital_Status</th>\n",
              "      <th>Income</th>\n",
              "      <th>Kidhome</th>\n",
              "      <th>Teenhome</th>\n",
              "      <th>Dt_Customer</th>\n",
              "      <th>Recency</th>\n",
              "      <th>MntWines</th>\n",
              "      <th>MntFruits</th>\n",
              "      <th>MntMeatProducts</th>\n",
              "      <th>MntFishProducts</th>\n",
              "      <th>MntSweetProducts</th>\n",
              "      <th>MntGoldProds</th>\n",
              "      <th>NumDealsPurchases</th>\n",
              "      <th>NumWebPurchases</th>\n",
              "      <th>NumCatalogPurchases</th>\n",
              "      <th>NumStorePurchases</th>\n",
              "      <th>NumWebVisitsMonth</th>\n",
              "      <th>AcceptedCmp3</th>\n",
              "      <th>AcceptedCmp4</th>\n",
              "      <th>AcceptedCmp5</th>\n",
              "      <th>AcceptedCmp1</th>\n",
              "      <th>AcceptedCmp2</th>\n",
              "      <th>Complain</th>\n",
              "      <th>Z_CostContact</th>\n",
              "      <th>Z_Revenue</th>\n",
              "      <th>Response</th>\n",
              "    </tr>\n",
              "  </thead>\n",
              "  <tbody>\n",
              "    <tr>\n",
              "      <th>0</th>\n",
              "      <td>5524</td>\n",
              "      <td>1957</td>\n",
              "      <td>Graduation</td>\n",
              "      <td>Single</td>\n",
              "      <td>58138.0</td>\n",
              "      <td>0</td>\n",
              "      <td>0</td>\n",
              "      <td>04-09-2012</td>\n",
              "      <td>58</td>\n",
              "      <td>635</td>\n",
              "      <td>88</td>\n",
              "      <td>546</td>\n",
              "      <td>172</td>\n",
              "      <td>88</td>\n",
              "      <td>88</td>\n",
              "      <td>3</td>\n",
              "      <td>8</td>\n",
              "      <td>10</td>\n",
              "      <td>4</td>\n",
              "      <td>7</td>\n",
              "      <td>0</td>\n",
              "      <td>0</td>\n",
              "      <td>0</td>\n",
              "      <td>0</td>\n",
              "      <td>0</td>\n",
              "      <td>0</td>\n",
              "      <td>3</td>\n",
              "      <td>11</td>\n",
              "      <td>1</td>\n",
              "    </tr>\n",
              "    <tr>\n",
              "      <th>1</th>\n",
              "      <td>2174</td>\n",
              "      <td>1954</td>\n",
              "      <td>Graduation</td>\n",
              "      <td>Single</td>\n",
              "      <td>46344.0</td>\n",
              "      <td>1</td>\n",
              "      <td>1</td>\n",
              "      <td>08-03-2014</td>\n",
              "      <td>38</td>\n",
              "      <td>11</td>\n",
              "      <td>1</td>\n",
              "      <td>6</td>\n",
              "      <td>2</td>\n",
              "      <td>1</td>\n",
              "      <td>6</td>\n",
              "      <td>2</td>\n",
              "      <td>1</td>\n",
              "      <td>1</td>\n",
              "      <td>2</td>\n",
              "      <td>5</td>\n",
              "      <td>0</td>\n",
              "      <td>0</td>\n",
              "      <td>0</td>\n",
              "      <td>0</td>\n",
              "      <td>0</td>\n",
              "      <td>0</td>\n",
              "      <td>3</td>\n",
              "      <td>11</td>\n",
              "      <td>0</td>\n",
              "    </tr>\n",
              "    <tr>\n",
              "      <th>2</th>\n",
              "      <td>4141</td>\n",
              "      <td>1965</td>\n",
              "      <td>Graduation</td>\n",
              "      <td>Together</td>\n",
              "      <td>71613.0</td>\n",
              "      <td>0</td>\n",
              "      <td>0</td>\n",
              "      <td>21-08-2013</td>\n",
              "      <td>26</td>\n",
              "      <td>426</td>\n",
              "      <td>49</td>\n",
              "      <td>127</td>\n",
              "      <td>111</td>\n",
              "      <td>21</td>\n",
              "      <td>42</td>\n",
              "      <td>1</td>\n",
              "      <td>8</td>\n",
              "      <td>2</td>\n",
              "      <td>10</td>\n",
              "      <td>4</td>\n",
              "      <td>0</td>\n",
              "      <td>0</td>\n",
              "      <td>0</td>\n",
              "      <td>0</td>\n",
              "      <td>0</td>\n",
              "      <td>0</td>\n",
              "      <td>3</td>\n",
              "      <td>11</td>\n",
              "      <td>0</td>\n",
              "    </tr>\n",
              "    <tr>\n",
              "      <th>3</th>\n",
              "      <td>6182</td>\n",
              "      <td>1984</td>\n",
              "      <td>Graduation</td>\n",
              "      <td>Together</td>\n",
              "      <td>26646.0</td>\n",
              "      <td>1</td>\n",
              "      <td>0</td>\n",
              "      <td>10-02-2014</td>\n",
              "      <td>26</td>\n",
              "      <td>11</td>\n",
              "      <td>4</td>\n",
              "      <td>20</td>\n",
              "      <td>10</td>\n",
              "      <td>3</td>\n",
              "      <td>5</td>\n",
              "      <td>2</td>\n",
              "      <td>2</td>\n",
              "      <td>0</td>\n",
              "      <td>4</td>\n",
              "      <td>6</td>\n",
              "      <td>0</td>\n",
              "      <td>0</td>\n",
              "      <td>0</td>\n",
              "      <td>0</td>\n",
              "      <td>0</td>\n",
              "      <td>0</td>\n",
              "      <td>3</td>\n",
              "      <td>11</td>\n",
              "      <td>0</td>\n",
              "    </tr>\n",
              "    <tr>\n",
              "      <th>4</th>\n",
              "      <td>5324</td>\n",
              "      <td>1981</td>\n",
              "      <td>PhD</td>\n",
              "      <td>Married</td>\n",
              "      <td>58293.0</td>\n",
              "      <td>1</td>\n",
              "      <td>0</td>\n",
              "      <td>19-01-2014</td>\n",
              "      <td>94</td>\n",
              "      <td>173</td>\n",
              "      <td>43</td>\n",
              "      <td>118</td>\n",
              "      <td>46</td>\n",
              "      <td>27</td>\n",
              "      <td>15</td>\n",
              "      <td>5</td>\n",
              "      <td>5</td>\n",
              "      <td>3</td>\n",
              "      <td>6</td>\n",
              "      <td>5</td>\n",
              "      <td>0</td>\n",
              "      <td>0</td>\n",
              "      <td>0</td>\n",
              "      <td>0</td>\n",
              "      <td>0</td>\n",
              "      <td>0</td>\n",
              "      <td>3</td>\n",
              "      <td>11</td>\n",
              "      <td>0</td>\n",
              "    </tr>\n",
              "    <tr>\n",
              "      <th>...</th>\n",
              "      <td>...</td>\n",
              "      <td>...</td>\n",
              "      <td>...</td>\n",
              "      <td>...</td>\n",
              "      <td>...</td>\n",
              "      <td>...</td>\n",
              "      <td>...</td>\n",
              "      <td>...</td>\n",
              "      <td>...</td>\n",
              "      <td>...</td>\n",
              "      <td>...</td>\n",
              "      <td>...</td>\n",
              "      <td>...</td>\n",
              "      <td>...</td>\n",
              "      <td>...</td>\n",
              "      <td>...</td>\n",
              "      <td>...</td>\n",
              "      <td>...</td>\n",
              "      <td>...</td>\n",
              "      <td>...</td>\n",
              "      <td>...</td>\n",
              "      <td>...</td>\n",
              "      <td>...</td>\n",
              "      <td>...</td>\n",
              "      <td>...</td>\n",
              "      <td>...</td>\n",
              "      <td>...</td>\n",
              "      <td>...</td>\n",
              "      <td>...</td>\n",
              "    </tr>\n",
              "    <tr>\n",
              "      <th>2230</th>\n",
              "      <td>7004</td>\n",
              "      <td>1984</td>\n",
              "      <td>Graduation</td>\n",
              "      <td>Single</td>\n",
              "      <td>11012.0</td>\n",
              "      <td>1</td>\n",
              "      <td>0</td>\n",
              "      <td>16-03-2013</td>\n",
              "      <td>82</td>\n",
              "      <td>24</td>\n",
              "      <td>3</td>\n",
              "      <td>26</td>\n",
              "      <td>7</td>\n",
              "      <td>1</td>\n",
              "      <td>23</td>\n",
              "      <td>3</td>\n",
              "      <td>3</td>\n",
              "      <td>1</td>\n",
              "      <td>2</td>\n",
              "      <td>9</td>\n",
              "      <td>1</td>\n",
              "      <td>0</td>\n",
              "      <td>0</td>\n",
              "      <td>0</td>\n",
              "      <td>0</td>\n",
              "      <td>0</td>\n",
              "      <td>3</td>\n",
              "      <td>11</td>\n",
              "      <td>0</td>\n",
              "    </tr>\n",
              "    <tr>\n",
              "      <th>2231</th>\n",
              "      <td>9817</td>\n",
              "      <td>1970</td>\n",
              "      <td>Master</td>\n",
              "      <td>Single</td>\n",
              "      <td>44802.0</td>\n",
              "      <td>0</td>\n",
              "      <td>0</td>\n",
              "      <td>21-08-2012</td>\n",
              "      <td>71</td>\n",
              "      <td>853</td>\n",
              "      <td>10</td>\n",
              "      <td>143</td>\n",
              "      <td>13</td>\n",
              "      <td>10</td>\n",
              "      <td>20</td>\n",
              "      <td>2</td>\n",
              "      <td>9</td>\n",
              "      <td>4</td>\n",
              "      <td>12</td>\n",
              "      <td>8</td>\n",
              "      <td>0</td>\n",
              "      <td>0</td>\n",
              "      <td>0</td>\n",
              "      <td>0</td>\n",
              "      <td>0</td>\n",
              "      <td>0</td>\n",
              "      <td>3</td>\n",
              "      <td>11</td>\n",
              "      <td>0</td>\n",
              "    </tr>\n",
              "    <tr>\n",
              "      <th>2232</th>\n",
              "      <td>8080</td>\n",
              "      <td>1986</td>\n",
              "      <td>Graduation</td>\n",
              "      <td>Single</td>\n",
              "      <td>26816.0</td>\n",
              "      <td>0</td>\n",
              "      <td>0</td>\n",
              "      <td>17-08-2012</td>\n",
              "      <td>50</td>\n",
              "      <td>5</td>\n",
              "      <td>1</td>\n",
              "      <td>6</td>\n",
              "      <td>3</td>\n",
              "      <td>4</td>\n",
              "      <td>3</td>\n",
              "      <td>1</td>\n",
              "      <td>0</td>\n",
              "      <td>0</td>\n",
              "      <td>3</td>\n",
              "      <td>4</td>\n",
              "      <td>0</td>\n",
              "      <td>0</td>\n",
              "      <td>0</td>\n",
              "      <td>0</td>\n",
              "      <td>0</td>\n",
              "      <td>0</td>\n",
              "      <td>3</td>\n",
              "      <td>11</td>\n",
              "      <td>0</td>\n",
              "    </tr>\n",
              "    <tr>\n",
              "      <th>2233</th>\n",
              "      <td>9432</td>\n",
              "      <td>1977</td>\n",
              "      <td>Graduation</td>\n",
              "      <td>Together</td>\n",
              "      <td>666666.0</td>\n",
              "      <td>1</td>\n",
              "      <td>0</td>\n",
              "      <td>02-06-2013</td>\n",
              "      <td>23</td>\n",
              "      <td>9</td>\n",
              "      <td>14</td>\n",
              "      <td>18</td>\n",
              "      <td>8</td>\n",
              "      <td>1</td>\n",
              "      <td>12</td>\n",
              "      <td>4</td>\n",
              "      <td>3</td>\n",
              "      <td>1</td>\n",
              "      <td>3</td>\n",
              "      <td>6</td>\n",
              "      <td>0</td>\n",
              "      <td>0</td>\n",
              "      <td>0</td>\n",
              "      <td>0</td>\n",
              "      <td>0</td>\n",
              "      <td>0</td>\n",
              "      <td>3</td>\n",
              "      <td>11</td>\n",
              "      <td>0</td>\n",
              "    </tr>\n",
              "    <tr>\n",
              "      <th>2234</th>\n",
              "      <td>8372</td>\n",
              "      <td>1974</td>\n",
              "      <td>Graduation</td>\n",
              "      <td>Married</td>\n",
              "      <td>34421.0</td>\n",
              "      <td>1</td>\n",
              "      <td>0</td>\n",
              "      <td>01-07-2013</td>\n",
              "      <td>81</td>\n",
              "      <td>3</td>\n",
              "      <td>3</td>\n",
              "      <td>7</td>\n",
              "      <td>6</td>\n",
              "      <td>2</td>\n",
              "      <td>9</td>\n",
              "      <td>1</td>\n",
              "      <td>1</td>\n",
              "      <td>0</td>\n",
              "      <td>2</td>\n",
              "      <td>7</td>\n",
              "      <td>0</td>\n",
              "      <td>0</td>\n",
              "      <td>0</td>\n",
              "      <td>0</td>\n",
              "      <td>0</td>\n",
              "      <td>0</td>\n",
              "      <td>3</td>\n",
              "      <td>11</td>\n",
              "      <td>0</td>\n",
              "    </tr>\n",
              "  </tbody>\n",
              "</table>\n",
              "<p>2235 rows × 29 columns</p>\n",
              "</div>\n",
              "      <button class=\"colab-df-convert\" onclick=\"convertToInteractive('df-1cba22fe-c4ab-4e93-b3ad-c24f88985cd9')\"\n",
              "              title=\"Convert this dataframe to an interactive table.\"\n",
              "              style=\"display:none;\">\n",
              "        \n",
              "  <svg xmlns=\"http://www.w3.org/2000/svg\" height=\"24px\"viewBox=\"0 0 24 24\"\n",
              "       width=\"24px\">\n",
              "    <path d=\"M0 0h24v24H0V0z\" fill=\"none\"/>\n",
              "    <path d=\"M18.56 5.44l.94 2.06.94-2.06 2.06-.94-2.06-.94-.94-2.06-.94 2.06-2.06.94zm-11 1L8.5 8.5l.94-2.06 2.06-.94-2.06-.94L8.5 2.5l-.94 2.06-2.06.94zm10 10l.94 2.06.94-2.06 2.06-.94-2.06-.94-.94-2.06-.94 2.06-2.06.94z\"/><path d=\"M17.41 7.96l-1.37-1.37c-.4-.4-.92-.59-1.43-.59-.52 0-1.04.2-1.43.59L10.3 9.45l-7.72 7.72c-.78.78-.78 2.05 0 2.83L4 21.41c.39.39.9.59 1.41.59.51 0 1.02-.2 1.41-.59l7.78-7.78 2.81-2.81c.8-.78.8-2.07 0-2.86zM5.41 20L4 18.59l7.72-7.72 1.47 1.35L5.41 20z\"/>\n",
              "  </svg>\n",
              "      </button>\n",
              "      \n",
              "  <style>\n",
              "    .colab-df-container {\n",
              "      display:flex;\n",
              "      flex-wrap:wrap;\n",
              "      gap: 12px;\n",
              "    }\n",
              "\n",
              "    .colab-df-convert {\n",
              "      background-color: #E8F0FE;\n",
              "      border: none;\n",
              "      border-radius: 50%;\n",
              "      cursor: pointer;\n",
              "      display: none;\n",
              "      fill: #1967D2;\n",
              "      height: 32px;\n",
              "      padding: 0 0 0 0;\n",
              "      width: 32px;\n",
              "    }\n",
              "\n",
              "    .colab-df-convert:hover {\n",
              "      background-color: #E2EBFA;\n",
              "      box-shadow: 0px 1px 2px rgba(60, 64, 67, 0.3), 0px 1px 3px 1px rgba(60, 64, 67, 0.15);\n",
              "      fill: #174EA6;\n",
              "    }\n",
              "\n",
              "    [theme=dark] .colab-df-convert {\n",
              "      background-color: #3B4455;\n",
              "      fill: #D2E3FC;\n",
              "    }\n",
              "\n",
              "    [theme=dark] .colab-df-convert:hover {\n",
              "      background-color: #434B5C;\n",
              "      box-shadow: 0px 1px 3px 1px rgba(0, 0, 0, 0.15);\n",
              "      filter: drop-shadow(0px 1px 2px rgba(0, 0, 0, 0.3));\n",
              "      fill: #FFFFFF;\n",
              "    }\n",
              "  </style>\n",
              "\n",
              "      <script>\n",
              "        const buttonEl =\n",
              "          document.querySelector('#df-1cba22fe-c4ab-4e93-b3ad-c24f88985cd9 button.colab-df-convert');\n",
              "        buttonEl.style.display =\n",
              "          google.colab.kernel.accessAllowed ? 'block' : 'none';\n",
              "\n",
              "        async function convertToInteractive(key) {\n",
              "          const element = document.querySelector('#df-1cba22fe-c4ab-4e93-b3ad-c24f88985cd9');\n",
              "          const dataTable =\n",
              "            await google.colab.kernel.invokeFunction('convertToInteractive',\n",
              "                                                     [key], {});\n",
              "          if (!dataTable) return;\n",
              "\n",
              "          const docLinkHtml = 'Like what you see? Visit the ' +\n",
              "            '<a target=\"_blank\" href=https://colab.research.google.com/notebooks/data_table.ipynb>data table notebook</a>'\n",
              "            + ' to learn more about interactive tables.';\n",
              "          element.innerHTML = '';\n",
              "          dataTable['output_type'] = 'display_data';\n",
              "          await google.colab.output.renderOutput(dataTable, element);\n",
              "          const docLink = document.createElement('div');\n",
              "          docLink.innerHTML = docLinkHtml;\n",
              "          element.appendChild(docLink);\n",
              "        }\n",
              "      </script>\n",
              "    </div>\n",
              "  </div>\n",
              "  "
            ],
            "text/plain": [
              "        ID  Year_Birth   Education  ... Z_CostContact  Z_Revenue  Response\n",
              "0     5524        1957  Graduation  ...             3         11         1\n",
              "1     2174        1954  Graduation  ...             3         11         0\n",
              "2     4141        1965  Graduation  ...             3         11         0\n",
              "3     6182        1984  Graduation  ...             3         11         0\n",
              "4     5324        1981         PhD  ...             3         11         0\n",
              "...    ...         ...         ...  ...           ...        ...       ...\n",
              "2230  7004        1984  Graduation  ...             3         11         0\n",
              "2231  9817        1970      Master  ...             3         11         0\n",
              "2232  8080        1986  Graduation  ...             3         11         0\n",
              "2233  9432        1977  Graduation  ...             3         11         0\n",
              "2234  8372        1974  Graduation  ...             3         11         0\n",
              "\n",
              "[2235 rows x 29 columns]"
            ]
          },
          "metadata": {},
          "execution_count": 2
        }
      ]
    },
    {
      "cell_type": "code",
      "metadata": {
        "colab": {
          "base_uri": "https://localhost:8080/"
        },
        "id": "DRwePiaHY7HV",
        "executionInfo": {
          "status": "ok",
          "timestamp": 1640957438002,
          "user_tz": -360,
          "elapsed": 303,
          "user": {
            "displayName": "Md Imran",
            "photoUrl": "https://lh3.googleusercontent.com/a/default-user=s64",
            "userId": "07022913227487839600"
          }
        },
        "outputId": "294881f3-684e-4de0-fa6a-e1bead81e79f"
      },
      "source": [
        "# total rows and columns\n",
        "print(f'Total rows : {data.shape[0]}')\n",
        "print(f'Total columns : {data.shape[1]}') "
      ],
      "execution_count": 3,
      "outputs": [
        {
          "output_type": "stream",
          "name": "stdout",
          "text": [
            "Total rows : 2240\n",
            "Total columns : 29\n"
          ]
        }
      ]
    },
    {
      "cell_type": "code",
      "source": [
        "# data information with data types\n",
        "data.info()"
      ],
      "metadata": {
        "colab": {
          "base_uri": "https://localhost:8080/"
        },
        "id": "gIw_hO_CjX-o",
        "executionInfo": {
          "status": "ok",
          "timestamp": 1640957438008,
          "user_tz": -360,
          "elapsed": 290,
          "user": {
            "displayName": "Md Imran",
            "photoUrl": "https://lh3.googleusercontent.com/a/default-user=s64",
            "userId": "07022913227487839600"
          }
        },
        "outputId": "6d56f4cd-7327-4046-c6f9-2c38a367fae5"
      },
      "execution_count": 4,
      "outputs": [
        {
          "output_type": "stream",
          "name": "stdout",
          "text": [
            "<class 'pandas.core.frame.DataFrame'>\n",
            "RangeIndex: 2240 entries, 0 to 2239\n",
            "Data columns (total 29 columns):\n",
            " #   Column               Non-Null Count  Dtype  \n",
            "---  ------               --------------  -----  \n",
            " 0   ID                   2240 non-null   int64  \n",
            " 1   Year_Birth           2240 non-null   int64  \n",
            " 2   Education            2240 non-null   object \n",
            " 3   Marital_Status       2240 non-null   object \n",
            " 4   Income               2216 non-null   float64\n",
            " 5   Kidhome              2240 non-null   int64  \n",
            " 6   Teenhome             2240 non-null   int64  \n",
            " 7   Dt_Customer          2240 non-null   object \n",
            " 8   Recency              2240 non-null   int64  \n",
            " 9   MntWines             2240 non-null   int64  \n",
            " 10  MntFruits            2240 non-null   int64  \n",
            " 11  MntMeatProducts      2240 non-null   int64  \n",
            " 12  MntFishProducts      2240 non-null   int64  \n",
            " 13  MntSweetProducts     2240 non-null   int64  \n",
            " 14  MntGoldProds         2240 non-null   int64  \n",
            " 15  NumDealsPurchases    2240 non-null   int64  \n",
            " 16  NumWebPurchases      2240 non-null   int64  \n",
            " 17  NumCatalogPurchases  2240 non-null   int64  \n",
            " 18  NumStorePurchases    2240 non-null   int64  \n",
            " 19  NumWebVisitsMonth    2240 non-null   int64  \n",
            " 20  AcceptedCmp3         2240 non-null   int64  \n",
            " 21  AcceptedCmp4         2240 non-null   int64  \n",
            " 22  AcceptedCmp5         2240 non-null   int64  \n",
            " 23  AcceptedCmp1         2240 non-null   int64  \n",
            " 24  AcceptedCmp2         2240 non-null   int64  \n",
            " 25  Complain             2240 non-null   int64  \n",
            " 26  Z_CostContact        2240 non-null   int64  \n",
            " 27  Z_Revenue            2240 non-null   int64  \n",
            " 28  Response             2240 non-null   int64  \n",
            "dtypes: float64(1), int64(25), object(3)\n",
            "memory usage: 507.6+ KB\n"
          ]
        }
      ]
    },
    {
      "cell_type": "markdown",
      "source": [
        "### column values summery"
      ],
      "metadata": {
        "id": "xvsxkhYsnnQL"
      }
    },
    {
      "cell_type": "code",
      "metadata": {
        "id": "0ARwYH5XObjj",
        "colab": {
          "base_uri": "https://localhost:8080/"
        },
        "executionInfo": {
          "status": "ok",
          "timestamp": 1640957438011,
          "user_tz": -360,
          "elapsed": 280,
          "user": {
            "displayName": "Md Imran",
            "photoUrl": "https://lh3.googleusercontent.com/a/default-user=s64",
            "userId": "07022913227487839600"
          }
        },
        "outputId": "bcada7a6-3b34-4bc4-dc18-779d4c2811c3"
      },
      "source": [
        "# explore column values\n",
        "for i in data.columns:\n",
        "  print (f\"{i}: {data[i].nunique()}\")\n",
        "  print()\n"
      ],
      "execution_count": 5,
      "outputs": [
        {
          "output_type": "stream",
          "name": "stdout",
          "text": [
            "ID: 2240\n",
            "\n",
            "Year_Birth: 59\n",
            "\n",
            "Education: 5\n",
            "\n",
            "Marital_Status: 8\n",
            "\n",
            "Income: 1974\n",
            "\n",
            "Kidhome: 3\n",
            "\n",
            "Teenhome: 3\n",
            "\n",
            "Dt_Customer: 663\n",
            "\n",
            "Recency: 100\n",
            "\n",
            "MntWines: 776\n",
            "\n",
            "MntFruits: 158\n",
            "\n",
            "MntMeatProducts: 558\n",
            "\n",
            "MntFishProducts: 182\n",
            "\n",
            "MntSweetProducts: 177\n",
            "\n",
            "MntGoldProds: 213\n",
            "\n",
            "NumDealsPurchases: 15\n",
            "\n",
            "NumWebPurchases: 15\n",
            "\n",
            "NumCatalogPurchases: 14\n",
            "\n",
            "NumStorePurchases: 14\n",
            "\n",
            "NumWebVisitsMonth: 16\n",
            "\n",
            "AcceptedCmp3: 2\n",
            "\n",
            "AcceptedCmp4: 2\n",
            "\n",
            "AcceptedCmp5: 2\n",
            "\n",
            "AcceptedCmp1: 2\n",
            "\n",
            "AcceptedCmp2: 2\n",
            "\n",
            "Complain: 2\n",
            "\n",
            "Z_CostContact: 1\n",
            "\n",
            "Z_Revenue: 1\n",
            "\n",
            "Response: 2\n",
            "\n"
          ]
        }
      ]
    },
    {
      "cell_type": "markdown",
      "metadata": {
        "id": "pC7YD-0tWhS_"
      },
      "source": [
        "## Identify and handle missing values\n",
        "\n",
        "---\n",
        "Based on summary above every column has total 2240 rows except Income column.<br>Income column has 24 Nan values.<br>Income column is about to customer description or profile details. Its actually a independent feature. <br> It is better to <b> Replace by Mean</b> as 52247.25\n"
      ]
    },
    {
      "cell_type": "code",
      "metadata": {
        "id": "mRfF516qSo0I",
        "colab": {
          "base_uri": "https://localhost:8080/"
        },
        "executionInfo": {
          "status": "ok",
          "timestamp": 1640957438032,
          "user_tz": -360,
          "elapsed": 287,
          "user": {
            "displayName": "Md Imran",
            "photoUrl": "https://lh3.googleusercontent.com/a/default-user=s64",
            "userId": "07022913227487839600"
          }
        },
        "outputId": "22dbac68-f609-4195-97a7-42d3d4ad8a08"
      },
      "source": [
        "# Finding columns which contain null or nan\n",
        "temp = data.isnull().any()\n",
        "temp[temp == True]"
      ],
      "execution_count": 6,
      "outputs": [
        {
          "output_type": "execute_result",
          "data": {
            "text/plain": [
              "Income    True\n",
              "dtype: bool"
            ]
          },
          "metadata": {},
          "execution_count": 6
        }
      ]
    },
    {
      "cell_type": "code",
      "source": [
        "# Finding count of null values in Income feature\n",
        "data.Income.isna().sum()"
      ],
      "metadata": {
        "colab": {
          "base_uri": "https://localhost:8080/"
        },
        "id": "3Hd25KuviQ5W",
        "executionInfo": {
          "status": "ok",
          "timestamp": 1640957438035,
          "user_tz": -360,
          "elapsed": 284,
          "user": {
            "displayName": "Md Imran",
            "photoUrl": "https://lh3.googleusercontent.com/a/default-user=s64",
            "userId": "07022913227487839600"
          }
        },
        "outputId": "42a88b11-a7d3-4077-e15c-0e2191e0290a"
      },
      "execution_count": 7,
      "outputs": [
        {
          "output_type": "execute_result",
          "data": {
            "text/plain": [
              "24"
            ]
          },
          "metadata": {},
          "execution_count": 7
        }
      ]
    },
    {
      "cell_type": "code",
      "metadata": {
        "id": "RK925TxZYP7y",
        "colab": {
          "base_uri": "https://localhost:8080/",
          "height": 270
        },
        "executionInfo": {
          "status": "ok",
          "timestamp": 1640957438038,
          "user_tz": -360,
          "elapsed": 276,
          "user": {
            "displayName": "Md Imran",
            "photoUrl": "https://lh3.googleusercontent.com/a/default-user=s64",
            "userId": "07022913227487839600"
          }
        },
        "outputId": "f8a98b25-0daf-4c1c-bd48-d1092bf74804"
      },
      "source": [
        "# income column showing total 24 records that are null \n",
        "\n",
        "# Looking top 5 null records\n",
        "data[data.Income.isnull()].head()\n",
        "\n",
        "# we need to replace (with mean, freq or other function) or drop these Nan value"
      ],
      "execution_count": 8,
      "outputs": [
        {
          "output_type": "execute_result",
          "data": {
            "text/html": [
              "\n",
              "  <div id=\"df-ed3595b1-9c4d-4b59-bd63-2dc8c0725a7b\">\n",
              "    <div class=\"colab-df-container\">\n",
              "      <div>\n",
              "<style scoped>\n",
              "    .dataframe tbody tr th:only-of-type {\n",
              "        vertical-align: middle;\n",
              "    }\n",
              "\n",
              "    .dataframe tbody tr th {\n",
              "        vertical-align: top;\n",
              "    }\n",
              "\n",
              "    .dataframe thead th {\n",
              "        text-align: right;\n",
              "    }\n",
              "</style>\n",
              "<table border=\"1\" class=\"dataframe\">\n",
              "  <thead>\n",
              "    <tr style=\"text-align: right;\">\n",
              "      <th></th>\n",
              "      <th>ID</th>\n",
              "      <th>Year_Birth</th>\n",
              "      <th>Education</th>\n",
              "      <th>Marital_Status</th>\n",
              "      <th>Income</th>\n",
              "      <th>Kidhome</th>\n",
              "      <th>Teenhome</th>\n",
              "      <th>Dt_Customer</th>\n",
              "      <th>Recency</th>\n",
              "      <th>MntWines</th>\n",
              "      <th>MntFruits</th>\n",
              "      <th>MntMeatProducts</th>\n",
              "      <th>MntFishProducts</th>\n",
              "      <th>MntSweetProducts</th>\n",
              "      <th>MntGoldProds</th>\n",
              "      <th>NumDealsPurchases</th>\n",
              "      <th>NumWebPurchases</th>\n",
              "      <th>NumCatalogPurchases</th>\n",
              "      <th>NumStorePurchases</th>\n",
              "      <th>NumWebVisitsMonth</th>\n",
              "      <th>AcceptedCmp3</th>\n",
              "      <th>AcceptedCmp4</th>\n",
              "      <th>AcceptedCmp5</th>\n",
              "      <th>AcceptedCmp1</th>\n",
              "      <th>AcceptedCmp2</th>\n",
              "      <th>Complain</th>\n",
              "      <th>Z_CostContact</th>\n",
              "      <th>Z_Revenue</th>\n",
              "      <th>Response</th>\n",
              "    </tr>\n",
              "  </thead>\n",
              "  <tbody>\n",
              "    <tr>\n",
              "      <th>10</th>\n",
              "      <td>1994</td>\n",
              "      <td>1983</td>\n",
              "      <td>Graduation</td>\n",
              "      <td>Married</td>\n",
              "      <td>NaN</td>\n",
              "      <td>1</td>\n",
              "      <td>0</td>\n",
              "      <td>15-11-2013</td>\n",
              "      <td>11</td>\n",
              "      <td>5</td>\n",
              "      <td>5</td>\n",
              "      <td>6</td>\n",
              "      <td>0</td>\n",
              "      <td>2</td>\n",
              "      <td>1</td>\n",
              "      <td>1</td>\n",
              "      <td>1</td>\n",
              "      <td>0</td>\n",
              "      <td>2</td>\n",
              "      <td>7</td>\n",
              "      <td>0</td>\n",
              "      <td>0</td>\n",
              "      <td>0</td>\n",
              "      <td>0</td>\n",
              "      <td>0</td>\n",
              "      <td>0</td>\n",
              "      <td>3</td>\n",
              "      <td>11</td>\n",
              "      <td>0</td>\n",
              "    </tr>\n",
              "    <tr>\n",
              "      <th>27</th>\n",
              "      <td>5255</td>\n",
              "      <td>1986</td>\n",
              "      <td>Graduation</td>\n",
              "      <td>Single</td>\n",
              "      <td>NaN</td>\n",
              "      <td>1</td>\n",
              "      <td>0</td>\n",
              "      <td>20-02-2013</td>\n",
              "      <td>19</td>\n",
              "      <td>5</td>\n",
              "      <td>1</td>\n",
              "      <td>3</td>\n",
              "      <td>3</td>\n",
              "      <td>263</td>\n",
              "      <td>362</td>\n",
              "      <td>0</td>\n",
              "      <td>27</td>\n",
              "      <td>0</td>\n",
              "      <td>0</td>\n",
              "      <td>1</td>\n",
              "      <td>0</td>\n",
              "      <td>0</td>\n",
              "      <td>0</td>\n",
              "      <td>0</td>\n",
              "      <td>0</td>\n",
              "      <td>0</td>\n",
              "      <td>3</td>\n",
              "      <td>11</td>\n",
              "      <td>0</td>\n",
              "    </tr>\n",
              "    <tr>\n",
              "      <th>43</th>\n",
              "      <td>7281</td>\n",
              "      <td>1959</td>\n",
              "      <td>PhD</td>\n",
              "      <td>Single</td>\n",
              "      <td>NaN</td>\n",
              "      <td>0</td>\n",
              "      <td>0</td>\n",
              "      <td>05-11-2013</td>\n",
              "      <td>80</td>\n",
              "      <td>81</td>\n",
              "      <td>11</td>\n",
              "      <td>50</td>\n",
              "      <td>3</td>\n",
              "      <td>2</td>\n",
              "      <td>39</td>\n",
              "      <td>1</td>\n",
              "      <td>1</td>\n",
              "      <td>3</td>\n",
              "      <td>4</td>\n",
              "      <td>2</td>\n",
              "      <td>0</td>\n",
              "      <td>0</td>\n",
              "      <td>0</td>\n",
              "      <td>0</td>\n",
              "      <td>0</td>\n",
              "      <td>0</td>\n",
              "      <td>3</td>\n",
              "      <td>11</td>\n",
              "      <td>0</td>\n",
              "    </tr>\n",
              "    <tr>\n",
              "      <th>48</th>\n",
              "      <td>7244</td>\n",
              "      <td>1951</td>\n",
              "      <td>Graduation</td>\n",
              "      <td>Single</td>\n",
              "      <td>NaN</td>\n",
              "      <td>2</td>\n",
              "      <td>1</td>\n",
              "      <td>01-01-2014</td>\n",
              "      <td>96</td>\n",
              "      <td>48</td>\n",
              "      <td>5</td>\n",
              "      <td>48</td>\n",
              "      <td>6</td>\n",
              "      <td>10</td>\n",
              "      <td>7</td>\n",
              "      <td>3</td>\n",
              "      <td>2</td>\n",
              "      <td>1</td>\n",
              "      <td>4</td>\n",
              "      <td>6</td>\n",
              "      <td>0</td>\n",
              "      <td>0</td>\n",
              "      <td>0</td>\n",
              "      <td>0</td>\n",
              "      <td>0</td>\n",
              "      <td>0</td>\n",
              "      <td>3</td>\n",
              "      <td>11</td>\n",
              "      <td>0</td>\n",
              "    </tr>\n",
              "    <tr>\n",
              "      <th>58</th>\n",
              "      <td>8557</td>\n",
              "      <td>1982</td>\n",
              "      <td>Graduation</td>\n",
              "      <td>Single</td>\n",
              "      <td>NaN</td>\n",
              "      <td>1</td>\n",
              "      <td>0</td>\n",
              "      <td>17-06-2013</td>\n",
              "      <td>57</td>\n",
              "      <td>11</td>\n",
              "      <td>3</td>\n",
              "      <td>22</td>\n",
              "      <td>2</td>\n",
              "      <td>2</td>\n",
              "      <td>6</td>\n",
              "      <td>2</td>\n",
              "      <td>2</td>\n",
              "      <td>0</td>\n",
              "      <td>3</td>\n",
              "      <td>6</td>\n",
              "      <td>0</td>\n",
              "      <td>0</td>\n",
              "      <td>0</td>\n",
              "      <td>0</td>\n",
              "      <td>0</td>\n",
              "      <td>0</td>\n",
              "      <td>3</td>\n",
              "      <td>11</td>\n",
              "      <td>0</td>\n",
              "    </tr>\n",
              "  </tbody>\n",
              "</table>\n",
              "</div>\n",
              "      <button class=\"colab-df-convert\" onclick=\"convertToInteractive('df-ed3595b1-9c4d-4b59-bd63-2dc8c0725a7b')\"\n",
              "              title=\"Convert this dataframe to an interactive table.\"\n",
              "              style=\"display:none;\">\n",
              "        \n",
              "  <svg xmlns=\"http://www.w3.org/2000/svg\" height=\"24px\"viewBox=\"0 0 24 24\"\n",
              "       width=\"24px\">\n",
              "    <path d=\"M0 0h24v24H0V0z\" fill=\"none\"/>\n",
              "    <path d=\"M18.56 5.44l.94 2.06.94-2.06 2.06-.94-2.06-.94-.94-2.06-.94 2.06-2.06.94zm-11 1L8.5 8.5l.94-2.06 2.06-.94-2.06-.94L8.5 2.5l-.94 2.06-2.06.94zm10 10l.94 2.06.94-2.06 2.06-.94-2.06-.94-.94-2.06-.94 2.06-2.06.94z\"/><path d=\"M17.41 7.96l-1.37-1.37c-.4-.4-.92-.59-1.43-.59-.52 0-1.04.2-1.43.59L10.3 9.45l-7.72 7.72c-.78.78-.78 2.05 0 2.83L4 21.41c.39.39.9.59 1.41.59.51 0 1.02-.2 1.41-.59l7.78-7.78 2.81-2.81c.8-.78.8-2.07 0-2.86zM5.41 20L4 18.59l7.72-7.72 1.47 1.35L5.41 20z\"/>\n",
              "  </svg>\n",
              "      </button>\n",
              "      \n",
              "  <style>\n",
              "    .colab-df-container {\n",
              "      display:flex;\n",
              "      flex-wrap:wrap;\n",
              "      gap: 12px;\n",
              "    }\n",
              "\n",
              "    .colab-df-convert {\n",
              "      background-color: #E8F0FE;\n",
              "      border: none;\n",
              "      border-radius: 50%;\n",
              "      cursor: pointer;\n",
              "      display: none;\n",
              "      fill: #1967D2;\n",
              "      height: 32px;\n",
              "      padding: 0 0 0 0;\n",
              "      width: 32px;\n",
              "    }\n",
              "\n",
              "    .colab-df-convert:hover {\n",
              "      background-color: #E2EBFA;\n",
              "      box-shadow: 0px 1px 2px rgba(60, 64, 67, 0.3), 0px 1px 3px 1px rgba(60, 64, 67, 0.15);\n",
              "      fill: #174EA6;\n",
              "    }\n",
              "\n",
              "    [theme=dark] .colab-df-convert {\n",
              "      background-color: #3B4455;\n",
              "      fill: #D2E3FC;\n",
              "    }\n",
              "\n",
              "    [theme=dark] .colab-df-convert:hover {\n",
              "      background-color: #434B5C;\n",
              "      box-shadow: 0px 1px 3px 1px rgba(0, 0, 0, 0.15);\n",
              "      filter: drop-shadow(0px 1px 2px rgba(0, 0, 0, 0.3));\n",
              "      fill: #FFFFFF;\n",
              "    }\n",
              "  </style>\n",
              "\n",
              "      <script>\n",
              "        const buttonEl =\n",
              "          document.querySelector('#df-ed3595b1-9c4d-4b59-bd63-2dc8c0725a7b button.colab-df-convert');\n",
              "        buttonEl.style.display =\n",
              "          google.colab.kernel.accessAllowed ? 'block' : 'none';\n",
              "\n",
              "        async function convertToInteractive(key) {\n",
              "          const element = document.querySelector('#df-ed3595b1-9c4d-4b59-bd63-2dc8c0725a7b');\n",
              "          const dataTable =\n",
              "            await google.colab.kernel.invokeFunction('convertToInteractive',\n",
              "                                                     [key], {});\n",
              "          if (!dataTable) return;\n",
              "\n",
              "          const docLinkHtml = 'Like what you see? Visit the ' +\n",
              "            '<a target=\"_blank\" href=https://colab.research.google.com/notebooks/data_table.ipynb>data table notebook</a>'\n",
              "            + ' to learn more about interactive tables.';\n",
              "          element.innerHTML = '';\n",
              "          dataTable['output_type'] = 'display_data';\n",
              "          await google.colab.output.renderOutput(dataTable, element);\n",
              "          const docLink = document.createElement('div');\n",
              "          docLink.innerHTML = docLinkHtml;\n",
              "          element.appendChild(docLink);\n",
              "        }\n",
              "      </script>\n",
              "    </div>\n",
              "  </div>\n",
              "  "
            ],
            "text/plain": [
              "      ID  Year_Birth   Education  ... Z_CostContact  Z_Revenue  Response\n",
              "10  1994        1983  Graduation  ...             3         11         0\n",
              "27  5255        1986  Graduation  ...             3         11         0\n",
              "43  7281        1959         PhD  ...             3         11         0\n",
              "48  7244        1951  Graduation  ...             3         11         0\n",
              "58  8557        1982  Graduation  ...             3         11         0\n",
              "\n",
              "[5 rows x 29 columns]"
            ]
          },
          "metadata": {},
          "execution_count": 8
        }
      ]
    },
    {
      "cell_type": "code",
      "metadata": {
        "colab": {
          "base_uri": "https://localhost:8080/"
        },
        "id": "_OT3seEcZ3Nb",
        "executionInfo": {
          "status": "ok",
          "timestamp": 1640957438049,
          "user_tz": -360,
          "elapsed": 281,
          "user": {
            "displayName": "Md Imran",
            "photoUrl": "https://lh3.googleusercontent.com/a/default-user=s64",
            "userId": "07022913227487839600"
          }
        },
        "outputId": "58b9c1c0-e54a-4834-8218-c05ce15e51ea"
      },
      "source": [
        "data.Income.describe()"
      ],
      "execution_count": 9,
      "outputs": [
        {
          "output_type": "execute_result",
          "data": {
            "text/plain": [
              "count      2216.000000\n",
              "mean      52247.251354\n",
              "std       25173.076661\n",
              "min        1730.000000\n",
              "25%       35303.000000\n",
              "50%       51381.500000\n",
              "75%       68522.000000\n",
              "max      666666.000000\n",
              "Name: Income, dtype: float64"
            ]
          },
          "metadata": {},
          "execution_count": 9
        }
      ]
    },
    {
      "cell_type": "code",
      "metadata": {
        "id": "oc1Z3l8baO7M",
        "executionInfo": {
          "status": "ok",
          "timestamp": 1640957438056,
          "user_tz": -360,
          "elapsed": 275,
          "user": {
            "displayName": "Md Imran",
            "photoUrl": "https://lh3.googleusercontent.com/a/default-user=s64",
            "userId": "07022913227487839600"
          }
        }
      },
      "source": [
        "#data.Income.value_counts() #.count()"
      ],
      "execution_count": 10,
      "outputs": []
    },
    {
      "cell_type": "code",
      "metadata": {
        "id": "pCR315XxbxGH",
        "executionInfo": {
          "status": "ok",
          "timestamp": 1640957438059,
          "user_tz": -360,
          "elapsed": 276,
          "user": {
            "displayName": "Md Imran",
            "photoUrl": "https://lh3.googleusercontent.com/a/default-user=s64",
            "userId": "07022913227487839600"
          }
        }
      },
      "source": [
        "# Mean of Income:\n",
        "avg_income = data['Income'].mean()\n",
        "\n",
        "# replace nan by mean\n",
        "data['Income'].fillna(avg_income, inplace=True)"
      ],
      "execution_count": 11,
      "outputs": []
    },
    {
      "cell_type": "markdown",
      "source": [
        "## Data Duplicacy Removing\n",
        "\n",
        "---\n",
        "\n",
        "Here no duplicate records or row. Data is free from any kinds of duplicacy."
      ],
      "metadata": {
        "id": "EtuocjMCvbGV"
      }
    },
    {
      "cell_type": "code",
      "source": [
        "# Checking duplicacy\n",
        "data.duplicated().any()\n",
        "data.duplicated(subset=['ID','Income' ]).sum()"
      ],
      "metadata": {
        "colab": {
          "base_uri": "https://localhost:8080/"
        },
        "id": "HT8nsIHuvmFk",
        "executionInfo": {
          "status": "ok",
          "timestamp": 1640957438063,
          "user_tz": -360,
          "elapsed": 278,
          "user": {
            "displayName": "Md Imran",
            "photoUrl": "https://lh3.googleusercontent.com/a/default-user=s64",
            "userId": "07022913227487839600"
          }
        },
        "outputId": "0d15fea4-eb4f-4649-b111-f8d429edbfdd"
      },
      "execution_count": 12,
      "outputs": [
        {
          "output_type": "execute_result",
          "data": {
            "text/plain": [
              "0"
            ]
          },
          "metadata": {},
          "execution_count": 12
        }
      ]
    },
    {
      "cell_type": "markdown",
      "metadata": {
        "id": "3AALlb-seH7Z"
      },
      "source": [
        "## Data formating \n",
        "\n",
        "---\n",
        "<b>Task Summery:</b> \n",
        "<br>1. There are 3 'object type' variables as named: 'Education', 'Marital_Status', 'Dt_Customer' and the rest are all numerical format.\n",
        "<br>2. 'Dt_customer' data is in object format but its should be in Datetime formation.\n",
        "<br>3. Binning Income column\n",
        "<br>4. Droping **Z_CostContact** &  **Z_revenue**\n",
        "<br>5. Others Formation are still good."
      ]
    },
    {
      "cell_type": "code",
      "source": [
        "#Transform items of dt_customer from obj to datetime foramat \n",
        "data['Dt_Customer']= pd.to_datetime(data['Dt_Customer'])\n",
        "#data.Dt_Customer"
      ],
      "metadata": {
        "id": "a8F_DTOpg6AL",
        "executionInfo": {
          "status": "ok",
          "timestamp": 1640957438068,
          "user_tz": -360,
          "elapsed": 267,
          "user": {
            "displayName": "Md Imran",
            "photoUrl": "https://lh3.googleusercontent.com/a/default-user=s64",
            "userId": "07022913227487839600"
          }
        }
      },
      "execution_count": 13,
      "outputs": []
    },
    {
      "cell_type": "code",
      "source": [
        "# Binning Income column\n",
        "\n",
        "bin = np.linspace(data['Income'].min(), data['Income'].max(), 4)\n",
        "label = ['low', 'medium', 'high']\n",
        "data['Income_bin'] = pd.cut(data['Income'], bins=bin, labels=label)"
      ],
      "metadata": {
        "id": "to6TOMPY55rw",
        "executionInfo": {
          "status": "ok",
          "timestamp": 1640957438071,
          "user_tz": -360,
          "elapsed": 268,
          "user": {
            "displayName": "Md Imran",
            "photoUrl": "https://lh3.googleusercontent.com/a/default-user=s64",
            "userId": "07022913227487839600"
          }
        }
      },
      "execution_count": 14,
      "outputs": []
    },
    {
      "cell_type": "markdown",
      "metadata": {
        "id": "tfEGD8SLjKYN"
      },
      "source": [
        "## Data Standardization & normalization\n",
        "\n",
        "---\n",
        "<b>Task Summery: </b>\n",
        "<br>1. Year Birth to transform age is more informative and actionable.\n",
        "<br>2. Marital_Status has 8 unique values. But <b> Married, Single, Divorced</b> these 3 are suitable for this project.\n",
        "<br>3. Second cycle corresponds to graduate level or master's level studies. Third cycle corresponds to doctoral or PhD level studies. So we will replace education column with Graduation for masters and 2nd cycle.\n",
        "<br>4. Creating a column as Total_spends. As adding all the amounts spend in different products or services is very effective to analysis.\n"
      ]
    },
    {
      "cell_type": "code",
      "metadata": {
        "id": "2e3gUHN7kglk",
        "executionInfo": {
          "status": "ok",
          "timestamp": 1640957438073,
          "user_tz": -360,
          "elapsed": 269,
          "user": {
            "displayName": "Md Imran",
            "photoUrl": "https://lh3.googleusercontent.com/a/default-user=s64",
            "userId": "07022913227487839600"
          }
        }
      },
      "source": [
        "# assigning new column as Age from Year birthdate\n",
        "data['Age'] = 2021 - data['Year_Birth']"
      ],
      "execution_count": 15,
      "outputs": []
    },
    {
      "cell_type": "code",
      "metadata": {
        "id": "lA5jkQXGnlXa",
        "executionInfo": {
          "status": "ok",
          "timestamp": 1640957438077,
          "user_tz": -360,
          "elapsed": 270,
          "user": {
            "displayName": "Md Imran",
            "photoUrl": "https://lh3.googleusercontent.com/a/default-user=s64",
            "userId": "07022913227487839600"
          }
        },
        "colab": {
          "base_uri": "https://localhost:8080/",
          "height": 143
        },
        "outputId": "d07a4e89-d4c7-46e6-fbfa-90b53f5212e6"
      },
      "source": [
        "# Transforming marital_status column\n",
        "data['Marital_Status'].replace('Together', 'Married', inplace=True )\n",
        "data['Marital_Status'].replace('Widow', 'Divorced', inplace=True )\n",
        "data['Marital_Status'].replace( ['Alone','YOLO', 'Absurd'], 'Single', inplace=True )\n",
        "\n",
        "# education column tranformation:\n",
        "data['Education'].replace(['Master', '2n Cycle'\t],'Graduation', inplace=True )\n",
        "\n",
        "#checking Education column\n",
        "data.Education.value_counts().to_frame()\n"
      ],
      "execution_count": 16,
      "outputs": [
        {
          "output_type": "execute_result",
          "data": {
            "text/html": [
              "\n",
              "  <div id=\"df-34ab6101-ed83-42bc-994b-4a896bb15d62\">\n",
              "    <div class=\"colab-df-container\">\n",
              "      <div>\n",
              "<style scoped>\n",
              "    .dataframe tbody tr th:only-of-type {\n",
              "        vertical-align: middle;\n",
              "    }\n",
              "\n",
              "    .dataframe tbody tr th {\n",
              "        vertical-align: top;\n",
              "    }\n",
              "\n",
              "    .dataframe thead th {\n",
              "        text-align: right;\n",
              "    }\n",
              "</style>\n",
              "<table border=\"1\" class=\"dataframe\">\n",
              "  <thead>\n",
              "    <tr style=\"text-align: right;\">\n",
              "      <th></th>\n",
              "      <th>Education</th>\n",
              "    </tr>\n",
              "  </thead>\n",
              "  <tbody>\n",
              "    <tr>\n",
              "      <th>Graduation</th>\n",
              "      <td>1700</td>\n",
              "    </tr>\n",
              "    <tr>\n",
              "      <th>PhD</th>\n",
              "      <td>486</td>\n",
              "    </tr>\n",
              "    <tr>\n",
              "      <th>Basic</th>\n",
              "      <td>54</td>\n",
              "    </tr>\n",
              "  </tbody>\n",
              "</table>\n",
              "</div>\n",
              "      <button class=\"colab-df-convert\" onclick=\"convertToInteractive('df-34ab6101-ed83-42bc-994b-4a896bb15d62')\"\n",
              "              title=\"Convert this dataframe to an interactive table.\"\n",
              "              style=\"display:none;\">\n",
              "        \n",
              "  <svg xmlns=\"http://www.w3.org/2000/svg\" height=\"24px\"viewBox=\"0 0 24 24\"\n",
              "       width=\"24px\">\n",
              "    <path d=\"M0 0h24v24H0V0z\" fill=\"none\"/>\n",
              "    <path d=\"M18.56 5.44l.94 2.06.94-2.06 2.06-.94-2.06-.94-.94-2.06-.94 2.06-2.06.94zm-11 1L8.5 8.5l.94-2.06 2.06-.94-2.06-.94L8.5 2.5l-.94 2.06-2.06.94zm10 10l.94 2.06.94-2.06 2.06-.94-2.06-.94-.94-2.06-.94 2.06-2.06.94z\"/><path d=\"M17.41 7.96l-1.37-1.37c-.4-.4-.92-.59-1.43-.59-.52 0-1.04.2-1.43.59L10.3 9.45l-7.72 7.72c-.78.78-.78 2.05 0 2.83L4 21.41c.39.39.9.59 1.41.59.51 0 1.02-.2 1.41-.59l7.78-7.78 2.81-2.81c.8-.78.8-2.07 0-2.86zM5.41 20L4 18.59l7.72-7.72 1.47 1.35L5.41 20z\"/>\n",
              "  </svg>\n",
              "      </button>\n",
              "      \n",
              "  <style>\n",
              "    .colab-df-container {\n",
              "      display:flex;\n",
              "      flex-wrap:wrap;\n",
              "      gap: 12px;\n",
              "    }\n",
              "\n",
              "    .colab-df-convert {\n",
              "      background-color: #E8F0FE;\n",
              "      border: none;\n",
              "      border-radius: 50%;\n",
              "      cursor: pointer;\n",
              "      display: none;\n",
              "      fill: #1967D2;\n",
              "      height: 32px;\n",
              "      padding: 0 0 0 0;\n",
              "      width: 32px;\n",
              "    }\n",
              "\n",
              "    .colab-df-convert:hover {\n",
              "      background-color: #E2EBFA;\n",
              "      box-shadow: 0px 1px 2px rgba(60, 64, 67, 0.3), 0px 1px 3px 1px rgba(60, 64, 67, 0.15);\n",
              "      fill: #174EA6;\n",
              "    }\n",
              "\n",
              "    [theme=dark] .colab-df-convert {\n",
              "      background-color: #3B4455;\n",
              "      fill: #D2E3FC;\n",
              "    }\n",
              "\n",
              "    [theme=dark] .colab-df-convert:hover {\n",
              "      background-color: #434B5C;\n",
              "      box-shadow: 0px 1px 3px 1px rgba(0, 0, 0, 0.15);\n",
              "      filter: drop-shadow(0px 1px 2px rgba(0, 0, 0, 0.3));\n",
              "      fill: #FFFFFF;\n",
              "    }\n",
              "  </style>\n",
              "\n",
              "      <script>\n",
              "        const buttonEl =\n",
              "          document.querySelector('#df-34ab6101-ed83-42bc-994b-4a896bb15d62 button.colab-df-convert');\n",
              "        buttonEl.style.display =\n",
              "          google.colab.kernel.accessAllowed ? 'block' : 'none';\n",
              "\n",
              "        async function convertToInteractive(key) {\n",
              "          const element = document.querySelector('#df-34ab6101-ed83-42bc-994b-4a896bb15d62');\n",
              "          const dataTable =\n",
              "            await google.colab.kernel.invokeFunction('convertToInteractive',\n",
              "                                                     [key], {});\n",
              "          if (!dataTable) return;\n",
              "\n",
              "          const docLinkHtml = 'Like what you see? Visit the ' +\n",
              "            '<a target=\"_blank\" href=https://colab.research.google.com/notebooks/data_table.ipynb>data table notebook</a>'\n",
              "            + ' to learn more about interactive tables.';\n",
              "          element.innerHTML = '';\n",
              "          dataTable['output_type'] = 'display_data';\n",
              "          await google.colab.output.renderOutput(dataTable, element);\n",
              "          const docLink = document.createElement('div');\n",
              "          docLink.innerHTML = docLinkHtml;\n",
              "          element.appendChild(docLink);\n",
              "        }\n",
              "      </script>\n",
              "    </div>\n",
              "  </div>\n",
              "  "
            ],
            "text/plain": [
              "            Education\n",
              "Graduation       1700\n",
              "PhD               486\n",
              "Basic              54"
            ]
          },
          "metadata": {},
          "execution_count": 16
        }
      ]
    },
    {
      "cell_type": "code",
      "source": [
        "# Forming 'Total_spends' column\n",
        "# means amount of purchases customer have made within different items\n",
        "\n",
        "data['Total_spends']= data.loc[:, 'MntWines':'MntGoldProds'].sum(axis=1)"
      ],
      "metadata": {
        "id": "SHWc9x6tqop8",
        "executionInfo": {
          "status": "ok",
          "timestamp": 1640957438080,
          "user_tz": -360,
          "elapsed": 265,
          "user": {
            "displayName": "Md Imran",
            "photoUrl": "https://lh3.googleusercontent.com/a/default-user=s64",
            "userId": "07022913227487839600"
          }
        }
      },
      "execution_count": 17,
      "outputs": []
    },
    {
      "cell_type": "code",
      "source": [
        "# Z_CostContact has constant 3 only\n",
        "#  Z_Revenue has value of  constant 11 only\n",
        "# so droping this column is appropriate\n",
        "\n",
        "del data['Z_CostContact']\n",
        "del data['Z_Revenue']"
      ],
      "metadata": {
        "id": "rW8f-aWt8NzX",
        "executionInfo": {
          "status": "ok",
          "timestamp": 1640957438082,
          "user_tz": -360,
          "elapsed": 263,
          "user": {
            "displayName": "Md Imran",
            "photoUrl": "https://lh3.googleusercontent.com/a/default-user=s64",
            "userId": "07022913227487839600"
          }
        }
      },
      "execution_count": 18,
      "outputs": []
    },
    {
      "cell_type": "markdown",
      "source": [
        "# Exploratoty Data analysis\n",
        "\n",
        "---\n",
        "\n",
        "**Findings Summery:**\n",
        "\n",
        "\n",
        "\n",
        "\n",
        "\n",
        "* Married Customer are top in purchase than single or widowed person\n",
        "* Less income holder are making more purchase\n",
        "* People aged 40 to 65 are the most of customers\n",
        "* Graduated person is major parts of customers\n"
      ],
      "metadata": {
        "id": "knYWkZ3RkQBp"
      }
    },
    {
      "cell_type": "code",
      "source": [
        "import matplotlib.pyplot as plt\n",
        "import seaborn as sns\n",
        "sns.set_theme(style='darkgrid', palette='deep', font='sans-serif')"
      ],
      "metadata": {
        "id": "CS-gMhm3uuLl",
        "executionInfo": {
          "status": "ok",
          "timestamp": 1640957439023,
          "user_tz": -360,
          "elapsed": 1202,
          "user": {
            "displayName": "Md Imran",
            "photoUrl": "https://lh3.googleusercontent.com/a/default-user=s64",
            "userId": "07022913227487839600"
          }
        }
      },
      "execution_count": 19,
      "outputs": []
    },
    {
      "cell_type": "code",
      "source": [
        "data.describe(include=np.number)"
      ],
      "metadata": {
        "colab": {
          "base_uri": "https://localhost:8080/",
          "height": 364
        },
        "id": "RyNxbGAm594d",
        "executionInfo": {
          "status": "ok",
          "timestamp": 1640957439031,
          "user_tz": -360,
          "elapsed": 100,
          "user": {
            "displayName": "Md Imran",
            "photoUrl": "https://lh3.googleusercontent.com/a/default-user=s64",
            "userId": "07022913227487839600"
          }
        },
        "outputId": "99d7f35e-6537-497e-ee54-cc1b2c37e889"
      },
      "execution_count": 20,
      "outputs": [
        {
          "output_type": "execute_result",
          "data": {
            "text/html": [
              "\n",
              "  <div id=\"df-73f2e4e4-b3f9-4720-9fdf-d4d15f5ea0df\">\n",
              "    <div class=\"colab-df-container\">\n",
              "      <div>\n",
              "<style scoped>\n",
              "    .dataframe tbody tr th:only-of-type {\n",
              "        vertical-align: middle;\n",
              "    }\n",
              "\n",
              "    .dataframe tbody tr th {\n",
              "        vertical-align: top;\n",
              "    }\n",
              "\n",
              "    .dataframe thead th {\n",
              "        text-align: right;\n",
              "    }\n",
              "</style>\n",
              "<table border=\"1\" class=\"dataframe\">\n",
              "  <thead>\n",
              "    <tr style=\"text-align: right;\">\n",
              "      <th></th>\n",
              "      <th>ID</th>\n",
              "      <th>Year_Birth</th>\n",
              "      <th>Income</th>\n",
              "      <th>Kidhome</th>\n",
              "      <th>Teenhome</th>\n",
              "      <th>Recency</th>\n",
              "      <th>MntWines</th>\n",
              "      <th>MntFruits</th>\n",
              "      <th>MntMeatProducts</th>\n",
              "      <th>MntFishProducts</th>\n",
              "      <th>MntSweetProducts</th>\n",
              "      <th>MntGoldProds</th>\n",
              "      <th>NumDealsPurchases</th>\n",
              "      <th>NumWebPurchases</th>\n",
              "      <th>NumCatalogPurchases</th>\n",
              "      <th>NumStorePurchases</th>\n",
              "      <th>NumWebVisitsMonth</th>\n",
              "      <th>AcceptedCmp3</th>\n",
              "      <th>AcceptedCmp4</th>\n",
              "      <th>AcceptedCmp5</th>\n",
              "      <th>AcceptedCmp1</th>\n",
              "      <th>AcceptedCmp2</th>\n",
              "      <th>Complain</th>\n",
              "      <th>Response</th>\n",
              "      <th>Age</th>\n",
              "      <th>Total_spends</th>\n",
              "    </tr>\n",
              "  </thead>\n",
              "  <tbody>\n",
              "    <tr>\n",
              "      <th>count</th>\n",
              "      <td>2240.000000</td>\n",
              "      <td>2240.000000</td>\n",
              "      <td>2240.000000</td>\n",
              "      <td>2240.000000</td>\n",
              "      <td>2240.000000</td>\n",
              "      <td>2240.000000</td>\n",
              "      <td>2240.000000</td>\n",
              "      <td>2240.000000</td>\n",
              "      <td>2240.000000</td>\n",
              "      <td>2240.000000</td>\n",
              "      <td>2240.000000</td>\n",
              "      <td>2240.000000</td>\n",
              "      <td>2240.000000</td>\n",
              "      <td>2240.000000</td>\n",
              "      <td>2240.000000</td>\n",
              "      <td>2240.000000</td>\n",
              "      <td>2240.000000</td>\n",
              "      <td>2240.000000</td>\n",
              "      <td>2240.000000</td>\n",
              "      <td>2240.000000</td>\n",
              "      <td>2240.000000</td>\n",
              "      <td>2240.000000</td>\n",
              "      <td>2240.000000</td>\n",
              "      <td>2240.000000</td>\n",
              "      <td>2240.000000</td>\n",
              "      <td>2240.000000</td>\n",
              "    </tr>\n",
              "    <tr>\n",
              "      <th>mean</th>\n",
              "      <td>5592.159821</td>\n",
              "      <td>1968.805804</td>\n",
              "      <td>52247.251354</td>\n",
              "      <td>0.444196</td>\n",
              "      <td>0.506250</td>\n",
              "      <td>49.109375</td>\n",
              "      <td>303.935714</td>\n",
              "      <td>26.302232</td>\n",
              "      <td>166.950000</td>\n",
              "      <td>37.525446</td>\n",
              "      <td>27.062946</td>\n",
              "      <td>44.021875</td>\n",
              "      <td>2.325000</td>\n",
              "      <td>4.084821</td>\n",
              "      <td>2.662054</td>\n",
              "      <td>5.790179</td>\n",
              "      <td>5.316518</td>\n",
              "      <td>0.072768</td>\n",
              "      <td>0.074554</td>\n",
              "      <td>0.072768</td>\n",
              "      <td>0.064286</td>\n",
              "      <td>0.013393</td>\n",
              "      <td>0.009375</td>\n",
              "      <td>0.149107</td>\n",
              "      <td>52.194196</td>\n",
              "      <td>605.798214</td>\n",
              "    </tr>\n",
              "    <tr>\n",
              "      <th>std</th>\n",
              "      <td>3246.662198</td>\n",
              "      <td>11.984069</td>\n",
              "      <td>25037.797168</td>\n",
              "      <td>0.538398</td>\n",
              "      <td>0.544538</td>\n",
              "      <td>28.962453</td>\n",
              "      <td>336.597393</td>\n",
              "      <td>39.773434</td>\n",
              "      <td>225.715373</td>\n",
              "      <td>54.628979</td>\n",
              "      <td>41.280498</td>\n",
              "      <td>52.167439</td>\n",
              "      <td>1.932238</td>\n",
              "      <td>2.778714</td>\n",
              "      <td>2.923101</td>\n",
              "      <td>3.250958</td>\n",
              "      <td>2.426645</td>\n",
              "      <td>0.259813</td>\n",
              "      <td>0.262728</td>\n",
              "      <td>0.259813</td>\n",
              "      <td>0.245316</td>\n",
              "      <td>0.114976</td>\n",
              "      <td>0.096391</td>\n",
              "      <td>0.356274</td>\n",
              "      <td>11.984069</td>\n",
              "      <td>602.249288</td>\n",
              "    </tr>\n",
              "    <tr>\n",
              "      <th>min</th>\n",
              "      <td>0.000000</td>\n",
              "      <td>1893.000000</td>\n",
              "      <td>1730.000000</td>\n",
              "      <td>0.000000</td>\n",
              "      <td>0.000000</td>\n",
              "      <td>0.000000</td>\n",
              "      <td>0.000000</td>\n",
              "      <td>0.000000</td>\n",
              "      <td>0.000000</td>\n",
              "      <td>0.000000</td>\n",
              "      <td>0.000000</td>\n",
              "      <td>0.000000</td>\n",
              "      <td>0.000000</td>\n",
              "      <td>0.000000</td>\n",
              "      <td>0.000000</td>\n",
              "      <td>0.000000</td>\n",
              "      <td>0.000000</td>\n",
              "      <td>0.000000</td>\n",
              "      <td>0.000000</td>\n",
              "      <td>0.000000</td>\n",
              "      <td>0.000000</td>\n",
              "      <td>0.000000</td>\n",
              "      <td>0.000000</td>\n",
              "      <td>0.000000</td>\n",
              "      <td>25.000000</td>\n",
              "      <td>5.000000</td>\n",
              "    </tr>\n",
              "    <tr>\n",
              "      <th>25%</th>\n",
              "      <td>2828.250000</td>\n",
              "      <td>1959.000000</td>\n",
              "      <td>35538.750000</td>\n",
              "      <td>0.000000</td>\n",
              "      <td>0.000000</td>\n",
              "      <td>24.000000</td>\n",
              "      <td>23.750000</td>\n",
              "      <td>1.000000</td>\n",
              "      <td>16.000000</td>\n",
              "      <td>3.000000</td>\n",
              "      <td>1.000000</td>\n",
              "      <td>9.000000</td>\n",
              "      <td>1.000000</td>\n",
              "      <td>2.000000</td>\n",
              "      <td>0.000000</td>\n",
              "      <td>3.000000</td>\n",
              "      <td>3.000000</td>\n",
              "      <td>0.000000</td>\n",
              "      <td>0.000000</td>\n",
              "      <td>0.000000</td>\n",
              "      <td>0.000000</td>\n",
              "      <td>0.000000</td>\n",
              "      <td>0.000000</td>\n",
              "      <td>0.000000</td>\n",
              "      <td>44.000000</td>\n",
              "      <td>68.750000</td>\n",
              "    </tr>\n",
              "    <tr>\n",
              "      <th>50%</th>\n",
              "      <td>5458.500000</td>\n",
              "      <td>1970.000000</td>\n",
              "      <td>51741.500000</td>\n",
              "      <td>0.000000</td>\n",
              "      <td>0.000000</td>\n",
              "      <td>49.000000</td>\n",
              "      <td>173.500000</td>\n",
              "      <td>8.000000</td>\n",
              "      <td>67.000000</td>\n",
              "      <td>12.000000</td>\n",
              "      <td>8.000000</td>\n",
              "      <td>24.000000</td>\n",
              "      <td>2.000000</td>\n",
              "      <td>4.000000</td>\n",
              "      <td>2.000000</td>\n",
              "      <td>5.000000</td>\n",
              "      <td>6.000000</td>\n",
              "      <td>0.000000</td>\n",
              "      <td>0.000000</td>\n",
              "      <td>0.000000</td>\n",
              "      <td>0.000000</td>\n",
              "      <td>0.000000</td>\n",
              "      <td>0.000000</td>\n",
              "      <td>0.000000</td>\n",
              "      <td>51.000000</td>\n",
              "      <td>396.000000</td>\n",
              "    </tr>\n",
              "    <tr>\n",
              "      <th>75%</th>\n",
              "      <td>8427.750000</td>\n",
              "      <td>1977.000000</td>\n",
              "      <td>68289.750000</td>\n",
              "      <td>1.000000</td>\n",
              "      <td>1.000000</td>\n",
              "      <td>74.000000</td>\n",
              "      <td>504.250000</td>\n",
              "      <td>33.000000</td>\n",
              "      <td>232.000000</td>\n",
              "      <td>50.000000</td>\n",
              "      <td>33.000000</td>\n",
              "      <td>56.000000</td>\n",
              "      <td>3.000000</td>\n",
              "      <td>6.000000</td>\n",
              "      <td>4.000000</td>\n",
              "      <td>8.000000</td>\n",
              "      <td>7.000000</td>\n",
              "      <td>0.000000</td>\n",
              "      <td>0.000000</td>\n",
              "      <td>0.000000</td>\n",
              "      <td>0.000000</td>\n",
              "      <td>0.000000</td>\n",
              "      <td>0.000000</td>\n",
              "      <td>0.000000</td>\n",
              "      <td>62.000000</td>\n",
              "      <td>1045.500000</td>\n",
              "    </tr>\n",
              "    <tr>\n",
              "      <th>max</th>\n",
              "      <td>11191.000000</td>\n",
              "      <td>1996.000000</td>\n",
              "      <td>666666.000000</td>\n",
              "      <td>2.000000</td>\n",
              "      <td>2.000000</td>\n",
              "      <td>99.000000</td>\n",
              "      <td>1493.000000</td>\n",
              "      <td>199.000000</td>\n",
              "      <td>1725.000000</td>\n",
              "      <td>259.000000</td>\n",
              "      <td>263.000000</td>\n",
              "      <td>362.000000</td>\n",
              "      <td>15.000000</td>\n",
              "      <td>27.000000</td>\n",
              "      <td>28.000000</td>\n",
              "      <td>13.000000</td>\n",
              "      <td>20.000000</td>\n",
              "      <td>1.000000</td>\n",
              "      <td>1.000000</td>\n",
              "      <td>1.000000</td>\n",
              "      <td>1.000000</td>\n",
              "      <td>1.000000</td>\n",
              "      <td>1.000000</td>\n",
              "      <td>1.000000</td>\n",
              "      <td>128.000000</td>\n",
              "      <td>2525.000000</td>\n",
              "    </tr>\n",
              "  </tbody>\n",
              "</table>\n",
              "</div>\n",
              "      <button class=\"colab-df-convert\" onclick=\"convertToInteractive('df-73f2e4e4-b3f9-4720-9fdf-d4d15f5ea0df')\"\n",
              "              title=\"Convert this dataframe to an interactive table.\"\n",
              "              style=\"display:none;\">\n",
              "        \n",
              "  <svg xmlns=\"http://www.w3.org/2000/svg\" height=\"24px\"viewBox=\"0 0 24 24\"\n",
              "       width=\"24px\">\n",
              "    <path d=\"M0 0h24v24H0V0z\" fill=\"none\"/>\n",
              "    <path d=\"M18.56 5.44l.94 2.06.94-2.06 2.06-.94-2.06-.94-.94-2.06-.94 2.06-2.06.94zm-11 1L8.5 8.5l.94-2.06 2.06-.94-2.06-.94L8.5 2.5l-.94 2.06-2.06.94zm10 10l.94 2.06.94-2.06 2.06-.94-2.06-.94-.94-2.06-.94 2.06-2.06.94z\"/><path d=\"M17.41 7.96l-1.37-1.37c-.4-.4-.92-.59-1.43-.59-.52 0-1.04.2-1.43.59L10.3 9.45l-7.72 7.72c-.78.78-.78 2.05 0 2.83L4 21.41c.39.39.9.59 1.41.59.51 0 1.02-.2 1.41-.59l7.78-7.78 2.81-2.81c.8-.78.8-2.07 0-2.86zM5.41 20L4 18.59l7.72-7.72 1.47 1.35L5.41 20z\"/>\n",
              "  </svg>\n",
              "      </button>\n",
              "      \n",
              "  <style>\n",
              "    .colab-df-container {\n",
              "      display:flex;\n",
              "      flex-wrap:wrap;\n",
              "      gap: 12px;\n",
              "    }\n",
              "\n",
              "    .colab-df-convert {\n",
              "      background-color: #E8F0FE;\n",
              "      border: none;\n",
              "      border-radius: 50%;\n",
              "      cursor: pointer;\n",
              "      display: none;\n",
              "      fill: #1967D2;\n",
              "      height: 32px;\n",
              "      padding: 0 0 0 0;\n",
              "      width: 32px;\n",
              "    }\n",
              "\n",
              "    .colab-df-convert:hover {\n",
              "      background-color: #E2EBFA;\n",
              "      box-shadow: 0px 1px 2px rgba(60, 64, 67, 0.3), 0px 1px 3px 1px rgba(60, 64, 67, 0.15);\n",
              "      fill: #174EA6;\n",
              "    }\n",
              "\n",
              "    [theme=dark] .colab-df-convert {\n",
              "      background-color: #3B4455;\n",
              "      fill: #D2E3FC;\n",
              "    }\n",
              "\n",
              "    [theme=dark] .colab-df-convert:hover {\n",
              "      background-color: #434B5C;\n",
              "      box-shadow: 0px 1px 3px 1px rgba(0, 0, 0, 0.15);\n",
              "      filter: drop-shadow(0px 1px 2px rgba(0, 0, 0, 0.3));\n",
              "      fill: #FFFFFF;\n",
              "    }\n",
              "  </style>\n",
              "\n",
              "      <script>\n",
              "        const buttonEl =\n",
              "          document.querySelector('#df-73f2e4e4-b3f9-4720-9fdf-d4d15f5ea0df button.colab-df-convert');\n",
              "        buttonEl.style.display =\n",
              "          google.colab.kernel.accessAllowed ? 'block' : 'none';\n",
              "\n",
              "        async function convertToInteractive(key) {\n",
              "          const element = document.querySelector('#df-73f2e4e4-b3f9-4720-9fdf-d4d15f5ea0df');\n",
              "          const dataTable =\n",
              "            await google.colab.kernel.invokeFunction('convertToInteractive',\n",
              "                                                     [key], {});\n",
              "          if (!dataTable) return;\n",
              "\n",
              "          const docLinkHtml = 'Like what you see? Visit the ' +\n",
              "            '<a target=\"_blank\" href=https://colab.research.google.com/notebooks/data_table.ipynb>data table notebook</a>'\n",
              "            + ' to learn more about interactive tables.';\n",
              "          element.innerHTML = '';\n",
              "          dataTable['output_type'] = 'display_data';\n",
              "          await google.colab.output.renderOutput(dataTable, element);\n",
              "          const docLink = document.createElement('div');\n",
              "          docLink.innerHTML = docLinkHtml;\n",
              "          element.appendChild(docLink);\n",
              "        }\n",
              "      </script>\n",
              "    </div>\n",
              "  </div>\n",
              "  "
            ],
            "text/plain": [
              "                 ID   Year_Birth  ...          Age  Total_spends\n",
              "count   2240.000000  2240.000000  ...  2240.000000   2240.000000\n",
              "mean    5592.159821  1968.805804  ...    52.194196    605.798214\n",
              "std     3246.662198    11.984069  ...    11.984069    602.249288\n",
              "min        0.000000  1893.000000  ...    25.000000      5.000000\n",
              "25%     2828.250000  1959.000000  ...    44.000000     68.750000\n",
              "50%     5458.500000  1970.000000  ...    51.000000    396.000000\n",
              "75%     8427.750000  1977.000000  ...    62.000000   1045.500000\n",
              "max    11191.000000  1996.000000  ...   128.000000   2525.000000\n",
              "\n",
              "[8 rows x 26 columns]"
            ]
          },
          "metadata": {},
          "execution_count": 20
        }
      ]
    },
    {
      "cell_type": "code",
      "source": [
        "data.describe(include=object)"
      ],
      "metadata": {
        "colab": {
          "base_uri": "https://localhost:8080/",
          "height": 175
        },
        "id": "yKKiLFIrjgFK",
        "executionInfo": {
          "status": "ok",
          "timestamp": 1640957439035,
          "user_tz": -360,
          "elapsed": 95,
          "user": {
            "displayName": "Md Imran",
            "photoUrl": "https://lh3.googleusercontent.com/a/default-user=s64",
            "userId": "07022913227487839600"
          }
        },
        "outputId": "7ced1771-24ab-4bc9-9518-7c4c8f12b3de"
      },
      "execution_count": 21,
      "outputs": [
        {
          "output_type": "execute_result",
          "data": {
            "text/html": [
              "\n",
              "  <div id=\"df-7f76251b-6872-4a41-9a36-01694a6e8d0f\">\n",
              "    <div class=\"colab-df-container\">\n",
              "      <div>\n",
              "<style scoped>\n",
              "    .dataframe tbody tr th:only-of-type {\n",
              "        vertical-align: middle;\n",
              "    }\n",
              "\n",
              "    .dataframe tbody tr th {\n",
              "        vertical-align: top;\n",
              "    }\n",
              "\n",
              "    .dataframe thead th {\n",
              "        text-align: right;\n",
              "    }\n",
              "</style>\n",
              "<table border=\"1\" class=\"dataframe\">\n",
              "  <thead>\n",
              "    <tr style=\"text-align: right;\">\n",
              "      <th></th>\n",
              "      <th>Education</th>\n",
              "      <th>Marital_Status</th>\n",
              "    </tr>\n",
              "  </thead>\n",
              "  <tbody>\n",
              "    <tr>\n",
              "      <th>count</th>\n",
              "      <td>2240</td>\n",
              "      <td>2240</td>\n",
              "    </tr>\n",
              "    <tr>\n",
              "      <th>unique</th>\n",
              "      <td>3</td>\n",
              "      <td>3</td>\n",
              "    </tr>\n",
              "    <tr>\n",
              "      <th>top</th>\n",
              "      <td>Graduation</td>\n",
              "      <td>Married</td>\n",
              "    </tr>\n",
              "    <tr>\n",
              "      <th>freq</th>\n",
              "      <td>1700</td>\n",
              "      <td>1444</td>\n",
              "    </tr>\n",
              "  </tbody>\n",
              "</table>\n",
              "</div>\n",
              "      <button class=\"colab-df-convert\" onclick=\"convertToInteractive('df-7f76251b-6872-4a41-9a36-01694a6e8d0f')\"\n",
              "              title=\"Convert this dataframe to an interactive table.\"\n",
              "              style=\"display:none;\">\n",
              "        \n",
              "  <svg xmlns=\"http://www.w3.org/2000/svg\" height=\"24px\"viewBox=\"0 0 24 24\"\n",
              "       width=\"24px\">\n",
              "    <path d=\"M0 0h24v24H0V0z\" fill=\"none\"/>\n",
              "    <path d=\"M18.56 5.44l.94 2.06.94-2.06 2.06-.94-2.06-.94-.94-2.06-.94 2.06-2.06.94zm-11 1L8.5 8.5l.94-2.06 2.06-.94-2.06-.94L8.5 2.5l-.94 2.06-2.06.94zm10 10l.94 2.06.94-2.06 2.06-.94-2.06-.94-.94-2.06-.94 2.06-2.06.94z\"/><path d=\"M17.41 7.96l-1.37-1.37c-.4-.4-.92-.59-1.43-.59-.52 0-1.04.2-1.43.59L10.3 9.45l-7.72 7.72c-.78.78-.78 2.05 0 2.83L4 21.41c.39.39.9.59 1.41.59.51 0 1.02-.2 1.41-.59l7.78-7.78 2.81-2.81c.8-.78.8-2.07 0-2.86zM5.41 20L4 18.59l7.72-7.72 1.47 1.35L5.41 20z\"/>\n",
              "  </svg>\n",
              "      </button>\n",
              "      \n",
              "  <style>\n",
              "    .colab-df-container {\n",
              "      display:flex;\n",
              "      flex-wrap:wrap;\n",
              "      gap: 12px;\n",
              "    }\n",
              "\n",
              "    .colab-df-convert {\n",
              "      background-color: #E8F0FE;\n",
              "      border: none;\n",
              "      border-radius: 50%;\n",
              "      cursor: pointer;\n",
              "      display: none;\n",
              "      fill: #1967D2;\n",
              "      height: 32px;\n",
              "      padding: 0 0 0 0;\n",
              "      width: 32px;\n",
              "    }\n",
              "\n",
              "    .colab-df-convert:hover {\n",
              "      background-color: #E2EBFA;\n",
              "      box-shadow: 0px 1px 2px rgba(60, 64, 67, 0.3), 0px 1px 3px 1px rgba(60, 64, 67, 0.15);\n",
              "      fill: #174EA6;\n",
              "    }\n",
              "\n",
              "    [theme=dark] .colab-df-convert {\n",
              "      background-color: #3B4455;\n",
              "      fill: #D2E3FC;\n",
              "    }\n",
              "\n",
              "    [theme=dark] .colab-df-convert:hover {\n",
              "      background-color: #434B5C;\n",
              "      box-shadow: 0px 1px 3px 1px rgba(0, 0, 0, 0.15);\n",
              "      filter: drop-shadow(0px 1px 2px rgba(0, 0, 0, 0.3));\n",
              "      fill: #FFFFFF;\n",
              "    }\n",
              "  </style>\n",
              "\n",
              "      <script>\n",
              "        const buttonEl =\n",
              "          document.querySelector('#df-7f76251b-6872-4a41-9a36-01694a6e8d0f button.colab-df-convert');\n",
              "        buttonEl.style.display =\n",
              "          google.colab.kernel.accessAllowed ? 'block' : 'none';\n",
              "\n",
              "        async function convertToInteractive(key) {\n",
              "          const element = document.querySelector('#df-7f76251b-6872-4a41-9a36-01694a6e8d0f');\n",
              "          const dataTable =\n",
              "            await google.colab.kernel.invokeFunction('convertToInteractive',\n",
              "                                                     [key], {});\n",
              "          if (!dataTable) return;\n",
              "\n",
              "          const docLinkHtml = 'Like what you see? Visit the ' +\n",
              "            '<a target=\"_blank\" href=https://colab.research.google.com/notebooks/data_table.ipynb>data table notebook</a>'\n",
              "            + ' to learn more about interactive tables.';\n",
              "          element.innerHTML = '';\n",
              "          dataTable['output_type'] = 'display_data';\n",
              "          await google.colab.output.renderOutput(dataTable, element);\n",
              "          const docLink = document.createElement('div');\n",
              "          docLink.innerHTML = docLinkHtml;\n",
              "          element.appendChild(docLink);\n",
              "        }\n",
              "      </script>\n",
              "    </div>\n",
              "  </div>\n",
              "  "
            ],
            "text/plain": [
              "         Education Marital_Status\n",
              "count         2240           2240\n",
              "unique           3              3\n",
              "top     Graduation        Married\n",
              "freq          1700           1444"
            ]
          },
          "metadata": {},
          "execution_count": 21
        }
      ]
    },
    {
      "cell_type": "code",
      "source": [
        "# Visualization for all numerical column in Histogram\n",
        "\n",
        "\n",
        "# temp = data._get_numeric_data()\n",
        "# for column in temp.columns:\n",
        "#   plt.figure(figsize=(12,5))\n",
        "#   sns.histplot(temp[column], color = 'green')\n",
        "#   plt.show()"
      ],
      "metadata": {
        "id": "AbXrGaFsEN7E",
        "executionInfo": {
          "status": "ok",
          "timestamp": 1640957439039,
          "user_tz": -360,
          "elapsed": 90,
          "user": {
            "displayName": "Md Imran",
            "photoUrl": "https://lh3.googleusercontent.com/a/default-user=s64",
            "userId": "07022913227487839600"
          }
        }
      },
      "execution_count": 22,
      "outputs": []
    },
    {
      "cell_type": "code",
      "source": [
        "# Ploting all categorical value:\n",
        "temp = data.select_dtypes(include=object)\n",
        "for col in temp.columns:\n",
        "  plt.figure(figsize=(10,5))\n",
        "  sns.countplot(x=temp[col], color='indigo')\n",
        "  plt.show()"
      ],
      "metadata": {
        "colab": {
          "base_uri": "https://localhost:8080/",
          "height": 661
        },
        "id": "2KUn_Zbo1xcU",
        "executionInfo": {
          "status": "ok",
          "timestamp": 1640957443581,
          "user_tz": -360,
          "elapsed": 4630,
          "user": {
            "displayName": "Md Imran",
            "photoUrl": "https://lh3.googleusercontent.com/a/default-user=s64",
            "userId": "07022913227487839600"
          }
        },
        "outputId": "a611f93c-30bc-4aa7-e4b9-69d2a056bbd7"
      },
      "execution_count": 23,
      "outputs": [
        {
          "output_type": "display_data",
          "data": {
            "image/png": "[encoded data removed]",
            "text/plain": [
              "<Figure size 720x360 with 1 Axes>"
            ]
          },
          "metadata": {}
        },
        {
          "output_type": "display_data",
          "data": {
            "image/png": "[encoded data removed]",
            "text/plain": [
              "<Figure size 720x360 with 1 Axes>"
            ]
          },
          "metadata": {}
        }
      ]
    },
    {
      "cell_type": "code",
      "source": [
        "# Maritial Status grouping\n",
        "temp =data.groupby(['Marital_Status']).sum()['Total_spends'].to_frame()\n",
        "print(temp)\n",
        "print()\n",
        "temp.plot(kind='bar', figsize=(8,4))\n",
        "plt.ylabel('Total Amount of Spends')\n",
        "plt.title('Total spends by Marital Status')\n",
        "plt.show()"
      ],
      "metadata": {
        "colab": {
          "base_uri": "https://localhost:8080/",
          "height": 444
        },
        "id": "omYUfi-Wrl1R",
        "executionInfo": {
          "status": "ok",
          "timestamp": 1640957443602,
          "user_tz": -360,
          "elapsed": 797,
          "user": {
            "displayName": "Md Imran",
            "photoUrl": "https://lh3.googleusercontent.com/a/default-user=s64",
            "userId": "07022913227487839600"
          }
        },
        "outputId": "2a8d5220-3503-41b7-da82-982cab2498fc"
      },
      "execution_count": 24,
      "outputs": [
        {
          "output_type": "stream",
          "name": "stdout",
          "text": [
            "                Total_spends\n",
            "Marital_Status              \n",
            "Divorced              198555\n",
            "Married               863318\n",
            "Single                295115\n",
            "\n"
          ]
        },
        {
          "output_type": "display_data",
          "data": {
            "image/png": "[encoded data removed]",
            "text/plain": [
              "<Figure size 576x288 with 1 Axes>"
            ]
          },
          "metadata": {}
        }
      ]
    },
    {
      "cell_type": "markdown",
      "source": [
        "Total spends by Income level [ Top = low }"
      ],
      "metadata": {
        "id": "k5gRM4_S6hbv"
      }
    },
    {
      "cell_type": "code",
      "source": [
        "g = data.groupby('Income_bin')\n",
        "print(g['Total_spends'].sum())\n",
        "print()\n",
        "g.sum().plot(kind='bar',\n",
        "             y='Total_spends',\n",
        "             title='Total spend by Income Levels',\n",
        "             figsize=(8,4))\n",
        "plt.show()"
      ],
      "metadata": {
        "colab": {
          "base_uri": "https://localhost:8080/",
          "height": 440
        },
        "id": "BEKllgm_88O7",
        "executionInfo": {
          "status": "ok",
          "timestamp": 1640957443618,
          "user_tz": -360,
          "elapsed": 782,
          "user": {
            "displayName": "Md Imran",
            "photoUrl": "https://lh3.googleusercontent.com/a/default-user=s64",
            "userId": "07022913227487839600"
          }
        },
        "outputId": "d469f30c-b397-42a3-ee3d-de8bde743cca"
      },
      "execution_count": 25,
      "outputs": [
        {
          "output_type": "stream",
          "name": "stdout",
          "text": [
            "Income_bin\n",
            "low       1356918\n",
            "medium          0\n",
            "high           62\n",
            "Name: Total_spends, dtype: int64\n",
            "\n"
          ]
        },
        {
          "output_type": "display_data",
          "data": {
            "image/png": "[encoded data removed]",
            "text/plain": [
              "<Figure size 576x288 with 1 Axes>"
            ]
          },
          "metadata": {}
        }
      ]
    },
    {
      "cell_type": "code",
      "source": [
        "# Age column ploting\n",
        "\n",
        "plt.figure(figsize=(10,6))\n",
        "sns.histplot(x=data['Age'],bins=[0,20,40,65,80,100])\n",
        "plt.show()"
      ],
      "metadata": {
        "colab": {
          "base_uri": "https://localhost:8080/",
          "height": 394
        },
        "id": "V2W-yBBp-uSG",
        "executionInfo": {
          "status": "ok",
          "timestamp": 1640957443622,
          "user_tz": -360,
          "elapsed": 646,
          "user": {
            "displayName": "Md Imran",
            "photoUrl": "https://lh3.googleusercontent.com/a/default-user=s64",
            "userId": "07022913227487839600"
          }
        },
        "outputId": "84e17e88-a36a-4f0f-dd31-064c6ec71dbe"
      },
      "execution_count": 26,
      "outputs": [
        {
          "output_type": "display_data",
          "data": {
            "image/png": "[encoded data removed]",
            "text/plain": [
              "<Figure size 720x432 with 1 Axes>"
            ]
          },
          "metadata": {}
        }
      ]
    },
    {
      "cell_type": "markdown",
      "source": [
        "# Segmentation by ML clustering\n",
        "\n",
        "---\n",
        "*   Clustering by 3 group is appropriate\n",
        "*   **Cluster 1 (Blue) :**\n",
        "<br>Royal Customer segement. <br> Its the Topper in total purchase, Response Rate and other product catagory purchase. <br> mostly catalog purchases, low website activity.<br> Higher income ratio\n",
        "<br> Much have no kids\n",
        "<br><br>\n",
        "* **cluster 0 (Green) :**  <br>Regular customer\n",
        "<br> Higher Recency\n",
        "<br> two and more kids\n",
        "<br><br>\n",
        "* **cluster 2 (Maroon) :** <br> Premimum Customer\n",
        "<br>Low recency\n",
        "<br> Lowest Total spending\n",
        "<br> lowest Income\n",
        "\n",
        "\n"
      ],
      "metadata": {
        "id": "uVB0BObHBUi7"
      }
    },
    {
      "cell_type": "code",
      "source": [
        "# Importing module\n",
        "\n",
        "from sklearn.preprocessing import StandardScaler\n",
        "from sklearn.cluster import KMeans\n"
      ],
      "metadata": {
        "id": "e3p-IrC-BbLH",
        "executionInfo": {
          "status": "ok",
          "timestamp": 1640957443625,
          "user_tz": -360,
          "elapsed": 575,
          "user": {
            "displayName": "Md Imran",
            "photoUrl": "https://lh3.googleusercontent.com/a/default-user=s64",
            "userId": "07022913227487839600"
          }
        }
      },
      "execution_count": 27,
      "outputs": []
    },
    {
      "cell_type": "code",
      "source": [
        "# Selecting features for Ml clustering for segmentation\n",
        "\n",
        "data_fix = data[['Recency', 'Total_spends']].values"
      ],
      "metadata": {
        "id": "O1PbDggWGFZB",
        "executionInfo": {
          "status": "ok",
          "timestamp": 1640957443663,
          "user_tz": -360,
          "elapsed": 610,
          "user": {
            "displayName": "Md Imran",
            "photoUrl": "https://lh3.googleusercontent.com/a/default-user=s64",
            "userId": "07022913227487839600"
          }
        }
      },
      "execution_count": 28,
      "outputs": []
    },
    {
      "cell_type": "code",
      "source": [
        "# Data Normalization by zero mean and unit variancce\n",
        "\n",
        "scaler = StandardScaler()\n",
        "data_cluster = scaler.fit_transform(data_fix)"
      ],
      "metadata": {
        "id": "fmSOIvwkD8Nu",
        "executionInfo": {
          "status": "ok",
          "timestamp": 1640957443667,
          "user_tz": -360,
          "elapsed": 604,
          "user": {
            "displayName": "Md Imran",
            "photoUrl": "https://lh3.googleusercontent.com/a/default-user=s64",
            "userId": "07022913227487839600"
          }
        }
      },
      "execution_count": 29,
      "outputs": []
    },
    {
      "cell_type": "code",
      "source": [
        "# looking best parameter of k-value that has trend on the next consecutive k\n",
        "# Elbow method\n",
        "\n",
        "sse = {}\n",
        "for k in range(1, 11):\n",
        "    kmeans = KMeans(n_clusters=k, random_state=42)\n",
        "    kmeans.fit(data_cluster)\n",
        "    sse[k] = kmeans.inertia_ # SSE to closest cluster centroid\n",
        "plt.title('The Elbow Method')\n",
        "plt.xlabel('k')\n",
        "plt.ylabel('SSE')\n",
        "sns.pointplot(x=list(sse.keys()), y=list(sse.values()))\n",
        "plt.show()"
      ],
      "metadata": {
        "colab": {
          "base_uri": "https://localhost:8080/",
          "height": 301
        },
        "id": "DMFR5EzfEA-q",
        "executionInfo": {
          "status": "ok",
          "timestamp": 1640957444999,
          "user_tz": -360,
          "elapsed": 1932,
          "user": {
            "displayName": "Md Imran",
            "photoUrl": "https://lh3.googleusercontent.com/a/default-user=s64",
            "userId": "07022913227487839600"
          }
        },
        "outputId": "b4160fcb-5245-4842-e6d3-1d1217f53c3f"
      },
      "execution_count": 30,
      "outputs": [
        {
          "output_type": "display_data",
          "data": {
            "image/png": "[encoded data removed]",
            "text/plain": [
              "<Figure size 432x288 with 1 Axes>"
            ]
          },
          "metadata": {}
        }
      ]
    },
    {
      "cell_type": "code",
      "source": [
        "# fit the model \n",
        "\n",
        "kmean = KMeans(n_clusters=3, random_state=42)\n",
        "kmean.fit(data_cluster)\n",
        "\n",
        "# Assigning \n",
        "data[\"Cluster\"] = kmean.labels_"
      ],
      "metadata": {
        "id": "UpNcy4AoEeU1",
        "executionInfo": {
          "status": "ok",
          "timestamp": 1640957445006,
          "user_tz": -360,
          "elapsed": 398,
          "user": {
            "displayName": "Md Imran",
            "photoUrl": "https://lh3.googleusercontent.com/a/default-user=s64",
            "userId": "07022913227487839600"
          }
        }
      },
      "execution_count": 31,
      "outputs": []
    },
    {
      "cell_type": "code",
      "source": [
        "# data.groupby('Cluster').min()\n",
        "# data.groupby('Cluster').max()\n",
        "data.groupby('Cluster').mean()\n",
        "# data[data['Cluster'] == 1].describe()"
      ],
      "metadata": {
        "colab": {
          "base_uri": "https://localhost:8080/",
          "height": 239
        },
        "id": "PIlvTJUNLmPI",
        "executionInfo": {
          "status": "ok",
          "timestamp": 1640957445017,
          "user_tz": -360,
          "elapsed": 392,
          "user": {
            "displayName": "Md Imran",
            "photoUrl": "https://lh3.googleusercontent.com/a/default-user=s64",
            "userId": "07022913227487839600"
          }
        },
        "outputId": "b54257b9-1f91-4096-f983-6a6d9e0ed206"
      },
      "execution_count": 32,
      "outputs": [
        {
          "output_type": "execute_result",
          "data": {
            "text/html": [
              "\n",
              "  <div id=\"df-cb01d88f-1e53-4d63-be8e-03167685885e\">\n",
              "    <div class=\"colab-df-container\">\n",
              "      <div>\n",
              "<style scoped>\n",
              "    .dataframe tbody tr th:only-of-type {\n",
              "        vertical-align: middle;\n",
              "    }\n",
              "\n",
              "    .dataframe tbody tr th {\n",
              "        vertical-align: top;\n",
              "    }\n",
              "\n",
              "    .dataframe thead th {\n",
              "        text-align: right;\n",
              "    }\n",
              "</style>\n",
              "<table border=\"1\" class=\"dataframe\">\n",
              "  <thead>\n",
              "    <tr style=\"text-align: right;\">\n",
              "      <th></th>\n",
              "      <th>ID</th>\n",
              "      <th>Year_Birth</th>\n",
              "      <th>Income</th>\n",
              "      <th>Kidhome</th>\n",
              "      <th>Teenhome</th>\n",
              "      <th>Recency</th>\n",
              "      <th>MntWines</th>\n",
              "      <th>MntFruits</th>\n",
              "      <th>MntMeatProducts</th>\n",
              "      <th>MntFishProducts</th>\n",
              "      <th>MntSweetProducts</th>\n",
              "      <th>MntGoldProds</th>\n",
              "      <th>NumDealsPurchases</th>\n",
              "      <th>NumWebPurchases</th>\n",
              "      <th>NumCatalogPurchases</th>\n",
              "      <th>NumStorePurchases</th>\n",
              "      <th>NumWebVisitsMonth</th>\n",
              "      <th>AcceptedCmp3</th>\n",
              "      <th>AcceptedCmp4</th>\n",
              "      <th>AcceptedCmp5</th>\n",
              "      <th>AcceptedCmp1</th>\n",
              "      <th>AcceptedCmp2</th>\n",
              "      <th>Complain</th>\n",
              "      <th>Response</th>\n",
              "      <th>Age</th>\n",
              "      <th>Total_spends</th>\n",
              "    </tr>\n",
              "    <tr>\n",
              "      <th>Cluster</th>\n",
              "      <th></th>\n",
              "      <th></th>\n",
              "      <th></th>\n",
              "      <th></th>\n",
              "      <th></th>\n",
              "      <th></th>\n",
              "      <th></th>\n",
              "      <th></th>\n",
              "      <th></th>\n",
              "      <th></th>\n",
              "      <th></th>\n",
              "      <th></th>\n",
              "      <th></th>\n",
              "      <th></th>\n",
              "      <th></th>\n",
              "      <th></th>\n",
              "      <th></th>\n",
              "      <th></th>\n",
              "      <th></th>\n",
              "      <th></th>\n",
              "      <th></th>\n",
              "      <th></th>\n",
              "      <th></th>\n",
              "      <th></th>\n",
              "      <th></th>\n",
              "      <th></th>\n",
              "    </tr>\n",
              "  </thead>\n",
              "  <tbody>\n",
              "    <tr>\n",
              "      <th>0</th>\n",
              "      <td>5447.963338</td>\n",
              "      <td>1968.934260</td>\n",
              "      <td>42182.745912</td>\n",
              "      <td>0.627054</td>\n",
              "      <td>0.582807</td>\n",
              "      <td>74.070796</td>\n",
              "      <td>130.766119</td>\n",
              "      <td>11.337547</td>\n",
              "      <td>55.003793</td>\n",
              "      <td>15.460177</td>\n",
              "      <td>11.865992</td>\n",
              "      <td>28.323641</td>\n",
              "      <td>2.527181</td>\n",
              "      <td>3.318584</td>\n",
              "      <td>1.302149</td>\n",
              "      <td>4.467762</td>\n",
              "      <td>6.064475</td>\n",
              "      <td>0.049305</td>\n",
              "      <td>0.045512</td>\n",
              "      <td>0.006321</td>\n",
              "      <td>0.013906</td>\n",
              "      <td>0.001264</td>\n",
              "      <td>0.011378</td>\n",
              "      <td>0.051833</td>\n",
              "      <td>52.065740</td>\n",
              "      <td>252.757269</td>\n",
              "    </tr>\n",
              "    <tr>\n",
              "      <th>1</th>\n",
              "      <td>5553.393136</td>\n",
              "      <td>1967.538222</td>\n",
              "      <td>73743.082692</td>\n",
              "      <td>0.060842</td>\n",
              "      <td>0.366615</td>\n",
              "      <td>52.886115</td>\n",
              "      <td>706.600624</td>\n",
              "      <td>59.043682</td>\n",
              "      <td>423.374415</td>\n",
              "      <td>84.572543</td>\n",
              "      <td>60.776911</td>\n",
              "      <td>78.798752</td>\n",
              "      <td>1.917317</td>\n",
              "      <td>5.630265</td>\n",
              "      <td>5.714509</td>\n",
              "      <td>8.564743</td>\n",
              "      <td>3.617785</td>\n",
              "      <td>0.084243</td>\n",
              "      <td>0.156006</td>\n",
              "      <td>0.234009</td>\n",
              "      <td>0.187207</td>\n",
              "      <td>0.035881</td>\n",
              "      <td>0.004680</td>\n",
              "      <td>0.252730</td>\n",
              "      <td>53.461778</td>\n",
              "      <td>1413.166927</td>\n",
              "    </tr>\n",
              "    <tr>\n",
              "      <th>2</th>\n",
              "      <td>5764.076733</td>\n",
              "      <td>1969.685644</td>\n",
              "      <td>45046.998776</td>\n",
              "      <td>0.569307</td>\n",
              "      <td>0.542079</td>\n",
              "      <td>21.676980</td>\n",
              "      <td>154.021040</td>\n",
              "      <td>14.977723</td>\n",
              "      <td>73.115099</td>\n",
              "      <td>21.803218</td>\n",
              "      <td>15.194307</td>\n",
              "      <td>31.800743</td>\n",
              "      <td>2.450495</td>\n",
              "      <td>3.608911</td>\n",
              "      <td>1.571782</td>\n",
              "      <td>4.883663</td>\n",
              "      <td>5.931931</td>\n",
              "      <td>0.086634</td>\n",
              "      <td>0.038366</td>\n",
              "      <td>0.009901</td>\n",
              "      <td>0.016089</td>\n",
              "      <td>0.007426</td>\n",
              "      <td>0.011139</td>\n",
              "      <td>0.162129</td>\n",
              "      <td>51.314356</td>\n",
              "      <td>310.912129</td>\n",
              "    </tr>\n",
              "  </tbody>\n",
              "</table>\n",
              "</div>\n",
              "      <button class=\"colab-df-convert\" onclick=\"convertToInteractive('df-cb01d88f-1e53-4d63-be8e-03167685885e')\"\n",
              "              title=\"Convert this dataframe to an interactive table.\"\n",
              "              style=\"display:none;\">\n",
              "        \n",
              "  <svg xmlns=\"http://www.w3.org/2000/svg\" height=\"24px\"viewBox=\"0 0 24 24\"\n",
              "       width=\"24px\">\n",
              "    <path d=\"M0 0h24v24H0V0z\" fill=\"none\"/>\n",
              "    <path d=\"M18.56 5.44l.94 2.06.94-2.06 2.06-.94-2.06-.94-.94-2.06-.94 2.06-2.06.94zm-11 1L8.5 8.5l.94-2.06 2.06-.94-2.06-.94L8.5 2.5l-.94 2.06-2.06.94zm10 10l.94 2.06.94-2.06 2.06-.94-2.06-.94-.94-2.06-.94 2.06-2.06.94z\"/><path d=\"M17.41 7.96l-1.37-1.37c-.4-.4-.92-.59-1.43-.59-.52 0-1.04.2-1.43.59L10.3 9.45l-7.72 7.72c-.78.78-.78 2.05 0 2.83L4 21.41c.39.39.9.59 1.41.59.51 0 1.02-.2 1.41-.59l7.78-7.78 2.81-2.81c.8-.78.8-2.07 0-2.86zM5.41 20L4 18.59l7.72-7.72 1.47 1.35L5.41 20z\"/>\n",
              "  </svg>\n",
              "      </button>\n",
              "      \n",
              "  <style>\n",
              "    .colab-df-container {\n",
              "      display:flex;\n",
              "      flex-wrap:wrap;\n",
              "      gap: 12px;\n",
              "    }\n",
              "\n",
              "    .colab-df-convert {\n",
              "      background-color: #E8F0FE;\n",
              "      border: none;\n",
              "      border-radius: 50%;\n",
              "      cursor: pointer;\n",
              "      display: none;\n",
              "      fill: #1967D2;\n",
              "      height: 32px;\n",
              "      padding: 0 0 0 0;\n",
              "      width: 32px;\n",
              "    }\n",
              "\n",
              "    .colab-df-convert:hover {\n",
              "      background-color: #E2EBFA;\n",
              "      box-shadow: 0px 1px 2px rgba(60, 64, 67, 0.3), 0px 1px 3px 1px rgba(60, 64, 67, 0.15);\n",
              "      fill: #174EA6;\n",
              "    }\n",
              "\n",
              "    [theme=dark] .colab-df-convert {\n",
              "      background-color: #3B4455;\n",
              "      fill: #D2E3FC;\n",
              "    }\n",
              "\n",
              "    [theme=dark] .colab-df-convert:hover {\n",
              "      background-color: #434B5C;\n",
              "      box-shadow: 0px 1px 3px 1px rgba(0, 0, 0, 0.15);\n",
              "      filter: drop-shadow(0px 1px 2px rgba(0, 0, 0, 0.3));\n",
              "      fill: #FFFFFF;\n",
              "    }\n",
              "  </style>\n",
              "\n",
              "      <script>\n",
              "        const buttonEl =\n",
              "          document.querySelector('#df-cb01d88f-1e53-4d63-be8e-03167685885e button.colab-df-convert');\n",
              "        buttonEl.style.display =\n",
              "          google.colab.kernel.accessAllowed ? 'block' : 'none';\n",
              "\n",
              "        async function convertToInteractive(key) {\n",
              "          const element = document.querySelector('#df-cb01d88f-1e53-4d63-be8e-03167685885e');\n",
              "          const dataTable =\n",
              "            await google.colab.kernel.invokeFunction('convertToInteractive',\n",
              "                                                     [key], {});\n",
              "          if (!dataTable) return;\n",
              "\n",
              "          const docLinkHtml = 'Like what you see? Visit the ' +\n",
              "            '<a target=\"_blank\" href=https://colab.research.google.com/notebooks/data_table.ipynb>data table notebook</a>'\n",
              "            + ' to learn more about interactive tables.';\n",
              "          element.innerHTML = '';\n",
              "          dataTable['output_type'] = 'display_data';\n",
              "          await google.colab.output.renderOutput(dataTable, element);\n",
              "          const docLink = document.createElement('div');\n",
              "          docLink.innerHTML = docLinkHtml;\n",
              "          element.appendChild(docLink);\n",
              "        }\n",
              "      </script>\n",
              "    </div>\n",
              "  </div>\n",
              "  "
            ],
            "text/plain": [
              "                  ID   Year_Birth  ...        Age  Total_spends\n",
              "Cluster                            ...                         \n",
              "0        5447.963338  1968.934260  ...  52.065740    252.757269\n",
              "1        5553.393136  1967.538222  ...  53.461778   1413.166927\n",
              "2        5764.076733  1969.685644  ...  51.314356    310.912129\n",
              "\n",
              "[3 rows x 26 columns]"
            ]
          },
          "metadata": {},
          "execution_count": 32
        }
      ]
    },
    {
      "cell_type": "markdown",
      "source": [
        "<b>Visualization Customer segmentation</b>"
      ],
      "metadata": {
        "id": "MzBMHWK3XKZg"
      }
    },
    {
      "cell_type": "code",
      "source": [
        "# Visualizing Cluster\n",
        "\n",
        "# plt.figure(figsize=(12,6))\n",
        "# sns.lineplot(x='Total_spends', y= 'Recency', hue='Cluster', data=data, palette=['lime', 'blue', 'maroon'])\n",
        "# plt.show()"
      ],
      "metadata": {
        "id": "ynKsg5GKNzVa",
        "executionInfo": {
          "status": "ok",
          "timestamp": 1640957445021,
          "user_tz": -360,
          "elapsed": 380,
          "user": {
            "displayName": "Md Imran",
            "photoUrl": "https://lh3.googleusercontent.com/a/default-user=s64",
            "userId": "07022913227487839600"
          }
        }
      },
      "execution_count": 33,
      "outputs": []
    },
    {
      "cell_type": "code",
      "source": [
        "for col in data.columns:\n",
        "  plt.figure(figsize=(12,5))\n",
        "  sns.histplot(data=data, x=col, hue='Cluster', palette=['lime', 'blue', 'maroon'])\n",
        "  plt.show()"
      ],
      "metadata": {
        "colab": {
          "base_uri": "https://localhost:8080/",
          "height": 1000
        },
        "id": "3bVt7aGeWGKk",
        "executionInfo": {
          "status": "ok",
          "timestamp": 1640957470578,
          "user_tz": -360,
          "elapsed": 25924,
          "user": {
            "displayName": "Md Imran",
            "photoUrl": "https://lh3.googleusercontent.com/a/default-user=s64",
            "userId": "07022913227487839600"
          }
        },
        "outputId": "d0931a91-bbd6-44ca-a022-4399d0a3b3d3"
      },
      "execution_count": 34,
      "outputs": [
        {
          "output_type": "display_data",
          "data": {
            "image/png": "[encoded data removed]",
            "text/plain": [
              "<Figure size 864x360 with 1 Axes>"
            ]
          },
          "metadata": {}
        },
        {
          "output_type": "display_data",
          "data": {
            "image/png": "[encoded data removed]",
            "text/plain": [
              "<Figure size 864x360 with 1 Axes>"
            ]
          },
          "metadata": {}
        },
        {
          "output_type": "display_data",
          "data": {
            "image/png": "[encoded data removed]",
            "text/plain": [
              "<Figure size 864x360 with 1 Axes>"
            ]
          },
          "metadata": {}
        },
        {
          "output_type": "display_data",
          "data": {
            "image/png": "[encoded data removed]",
            "text/plain": [
              "<Figure size 864x360 with 1 Axes>"
            ]
          },
          "metadata": {}
        },
        {
          "output_type": "display_data",
          "data": {
            "image/png": "[encoded data removed]",
            "text/plain": [
              "<Figure size 864x360 with 1 Axes>"
            ]
          },
          "metadata": {}
        },
        {
          "output_type": "display_data",
          "data": {
            "image/png": "[encoded data removed]",
            "text/plain": [
              "<Figure size 864x360 with 1 Axes>"
            ]
          },
          "metadata": {}
        },
        {
          "output_type": "display_data",
          "data": {
            "image/png": "[encoded data removed]",
            "text/plain": [
              "<Figure size 864x360 with 1 Axes>"
            ]
          },
          "metadata": {}
        },
        {
          "output_type": "display_data",
          "data": {
            "image/png": "[encoded data removed]",
            "text/plain": [
              "<Figure size 864x360 with 1 Axes>"
            ]
          },
          "metadata": {}
        },
        {
          "output_type": "display_data",
          "data": {
            "image/png": "[encoded data removed]",
            "text/plain": [
              "<Figure size 864x360 with 1 Axes>"
            ]
          },
          "metadata": {}
        },
        {
          "output_type": "display_data",
          "data": {
            "image/png": "[encoded data removed]",
            "text/plain": [
              "<Figure size 864x360 with 1 Axes>"
            ]
          },
          "metadata": {}
        },
        {
          "output_type": "display_data",
          "data": {
            "image/png": "[encoded data removed]",
            "text/plain": [
              "<Figure size 864x360 with 1 Axes>"
            ]
          },
          "metadata": {}
        },
        {
          "output_type": "display_data",
          "data": {
            "image/png": "[encoded data removed]",
            "text/plain": [
              "<Figure size 864x360 with 1 Axes>"
            ]
          },
          "metadata": {}
        },
        {
          "output_type": "display_data",
          "data": {
            "image/png": "[encoded data removed]",
            "text/plain": [
              "<Figure size 864x360 with 1 Axes>"
            ]
          },
          "metadata": {}
        },
        {
          "output_type": "display_data",
          "data": {
            "image/png": "[encoded data removed]",
            "text/plain": [
              "<Figure size 864x360 with 1 Axes>"
            ]
          },
          "metadata": {}
        },
        {
          "output_type": "display_data",
          "data": {
            "image/png": "[encoded data removed]",
            "text/plain": [
              "<Figure size 864x360 with 1 Axes>"
            ]
          },
          "metadata": {}
        },
        {
          "output_type": "display_data",
          "data": {
            "image/png": "[encoded data removed]",
            "text/plain": [
              "<Figure size 864x360 with 1 Axes>"
            ]
          },
          "metadata": {}
        },
        {
          "output_type": "display_data",
          "data": {
            "image/png": "[encoded data removed]",
            "text/plain": [
              "<Figure size 864x360 with 1 Axes>"
            ]
          },
          "metadata": {}
        },
        {
          "output_type": "display_data",
          "data": {
            "image/png": "[encoded data removed]",
            "text/plain": [
              "<Figure size 864x360 with 1 Axes>"
            ]
          },
          "metadata": {}
        },
        {
          "output_type": "display_data",
          "data": {
            "image/png": "[encoded data removed]",
            "text/plain": [
              "<Figure size 864x360 with 1 Axes>"
            ]
          },
          "metadata": {}
        },
        {
          "output_type": "display_data",
          "data": {
            "image/png": "[encoded data removed]",
            "text/plain": [
              "<Figure size 864x360 with 1 Axes>"
            ]
          },
          "metadata": {}
        },
        {
          "output_type": "display_data",
          "data": {
            "image/png": "[encoded data removed]",
            "text/plain": [
              "<Figure size 864x360 with 1 Axes>"
            ]
          },
          "metadata": {}
        },
        {
          "output_type": "display_data",
          "data": {
            "image/png": "[encoded data removed]",
            "text/plain": [
              "<Figure size 864x360 with 1 Axes>"
            ]
          },
          "metadata": {}
        },
        {
          "output_type": "display_data",
          "data": {
            "image/png": "[encoded data removed]",
            "text/plain": [
              "<Figure size 864x360 with 1 Axes>"
            ]
          },
          "metadata": {}
        },
        {
          "output_type": "display_data",
          "data": {
            "image/png": "[encoded data removed]",
            "text/plain": [
              "<Figure size 864x360 with 1 Axes>"
            ]
          },
          "metadata": {}
        },
        {
          "output_type": "display_data",
          "data": {
            "image/png": "[encoded data removed]",
            "text/plain": [
              "<Figure size 864x360 with 1 Axes>"
            ]
          },
          "metadata": {}
        },
        {
          "output_type": "display_data",
          "data": {
            "image/png": "[encoded data removed]",
            "text/plain": [
              "<Figure size 864x360 with 1 Axes>"
            ]
          },
          "metadata": {}
        },
        {
          "output_type": "display_data",
          "data": {
            "image/png": "[encoded data removed]",
            "text/plain": [
              "<Figure size 864x360 with 1 Axes>"
            ]
          },
          "metadata": {}
        },
        {
          "output_type": "display_data",
          "data": {
            "image/png": "[encoded data removed]",
            "text/plain": [
              "<Figure size 864x360 with 1 Axes>"
            ]
          },
          "metadata": {}
        },
        {
          "output_type": "display_data",
          "data": {
            "image/png": "[encoded data removed]",
            "text/plain": [
              "<Figure size 864x360 with 1 Axes>"
            ]
          },
          "metadata": {}
        },
        {
          "output_type": "display_data",
          "data": {
            "image/png": "[encoded data removed]",
            "text/plain": [
              "<Figure size 864x360 with 1 Axes>"
            ]
          },
          "metadata": {}
        },
        {
          "output_type": "display_data",
          "data": {
            "image/png": "[encoded data removed]",
            "text/plain": [
              "<Figure size 864x360 with 1 Axes>"
            ]
          },
          "metadata": {}
        }
      ]
    },
    {
      "cell_type": "markdown",
      "source": [
        "# Prediction Model \n",
        "\n",
        "---\n",
        "\n",
        "Predicting Ml model for which customers will respond to next promotion .\n",
        "<br> For binary value as 1 or 0, we should classified model algorith.\n",
        "<br> Our target feature is Response "
      ],
      "metadata": {
        "id": "E_Akz2V3NMuG"
      }
    },
    {
      "cell_type": "code",
      "source": [
        "# label encoding for Education column\n",
        "data.Education.replace(['Graduation', 'PhD', 'Basic'], [2,3,1], inplace=True)\n",
        "\n",
        "# encoding for Marital_Status column\n",
        "one_hot = pd.get_dummies(data['Marital_Status'])\n",
        "#droping Marital_Status column & joining One_hot \n",
        "data.drop('Marital_Status',axis=1,inplace=True)\n",
        "data = data.join(one_hot)"
      ],
      "metadata": {
        "id": "HUCtspLnadFF",
        "executionInfo": {
          "status": "ok",
          "timestamp": 1640957470582,
          "user_tz": -360,
          "elapsed": 183,
          "user": {
            "displayName": "Md Imran",
            "photoUrl": "https://lh3.googleusercontent.com/a/default-user=s64",
            "userId": "07022913227487839600"
          }
        }
      },
      "execution_count": 35,
      "outputs": []
    },
    {
      "cell_type": "code",
      "source": [
        "# for col in data.columns:\n",
        "#   print(f\"{col}: {data[col].unique()}\") \n",
        "#data.dtypes"
      ],
      "metadata": {
        "id": "_Qma7So8Y_4k",
        "executionInfo": {
          "status": "ok",
          "timestamp": 1640957470587,
          "user_tz": -360,
          "elapsed": 165,
          "user": {
            "displayName": "Md Imran",
            "photoUrl": "https://lh3.googleusercontent.com/a/default-user=s64",
            "userId": "07022913227487839600"
          }
        }
      },
      "execution_count": 36,
      "outputs": []
    },
    {
      "cell_type": "markdown",
      "source": [
        "According correlation selecting independent feature also as well as dependent feature"
      ],
      "metadata": {
        "id": "w-r0F3O9gYWF"
      }
    },
    {
      "cell_type": "code",
      "source": [
        "# feature selection\n",
        "\n",
        "#data.corr()['Response']\n",
        "X = data[['Total_spends','NumCatalogPurchases','NumWebPurchases','AcceptedCmp1','AcceptedCmp2','AcceptedCmp3','AcceptedCmp4','AcceptedCmp5','Single']]\n",
        "X = np.asarray(X)\n",
        "\n",
        "y= data['Response'].values"
      ],
      "metadata": {
        "id": "G7nrzR2GCiSK",
        "executionInfo": {
          "status": "ok",
          "timestamp": 1640957470590,
          "user_tz": -360,
          "elapsed": 163,
          "user": {
            "displayName": "Md Imran",
            "photoUrl": "https://lh3.googleusercontent.com/a/default-user=s64",
            "userId": "07022913227487839600"
          }
        }
      },
      "execution_count": 37,
      "outputs": []
    },
    {
      "cell_type": "code",
      "source": [
        "# normalization by standard scaler\n",
        "\n",
        "from sklearn import preprocessing\n",
        "X = preprocessing.StandardScaler().fit_transform(X)"
      ],
      "metadata": {
        "id": "O55WHI30fuKf",
        "executionInfo": {
          "status": "ok",
          "timestamp": 1640957470593,
          "user_tz": -360,
          "elapsed": 164,
          "user": {
            "displayName": "Md Imran",
            "photoUrl": "https://lh3.googleusercontent.com/a/default-user=s64",
            "userId": "07022913227487839600"
          }
        }
      },
      "execution_count": 38,
      "outputs": []
    },
    {
      "cell_type": "markdown",
      "source": [
        "## Spliting dataset for training and testing"
      ],
      "metadata": {
        "id": "Hz7kl9ReCV3V"
      }
    },
    {
      "cell_type": "code",
      "source": [
        "from sklearn.model_selection import train_test_split\n",
        "X_train, X_test, y_train, y_test = train_test_split( X, y, test_size=0.2, random_state=4)\n",
        "\n",
        "print ('Train set:', X_train.shape,  y_train.shape)\n",
        "print ('Test set:', X_test.shape,  y_test.shape)"
      ],
      "metadata": {
        "id": "B5f2orgjNSuL",
        "colab": {
          "base_uri": "https://localhost:8080/"
        },
        "executionInfo": {
          "status": "ok",
          "timestamp": 1640957470595,
          "user_tz": -360,
          "elapsed": 148,
          "user": {
            "displayName": "Md Imran",
            "photoUrl": "https://lh3.googleusercontent.com/a/default-user=s64",
            "userId": "07022913227487839600"
          }
        },
        "outputId": "e67cc6b2-6b88-4756-8de0-4a51d6491451"
      },
      "execution_count": 39,
      "outputs": [
        {
          "output_type": "stream",
          "name": "stdout",
          "text": [
            "Train set: (1792, 9) (1792,)\n",
            "Test set: (448, 9) (448,)\n"
          ]
        }
      ]
    },
    {
      "cell_type": "markdown",
      "source": [
        "## Logistic Regression Modeling "
      ],
      "metadata": {
        "id": "gLzhz_aXJYJd"
      }
    },
    {
      "cell_type": "code",
      "source": [
        "# importing modules\n",
        "from sklearn.linear_model import LogisticRegression\n",
        "from sklearn.metrics import confusion_matrix, classification_report\n",
        "    \n",
        "# Modeling\n",
        "LR = LogisticRegression(C=0.01, solver='liblinear').fit(X_train,y_train)\n",
        "\n",
        "# predicting test set\n",
        "yhat_lr = LR.predict(X_test)\n",
        "\n",
        "# Model Evaluation \n",
        "print (classification_report(y_test, yhat_lr))"
      ],
      "metadata": {
        "id": "BAHfQG4QJY5V",
        "colab": {
          "base_uri": "https://localhost:8080/"
        },
        "executionInfo": {
          "status": "ok",
          "timestamp": 1640957470598,
          "user_tz": -360,
          "elapsed": 135,
          "user": {
            "displayName": "Md Imran",
            "photoUrl": "https://lh3.googleusercontent.com/a/default-user=s64",
            "userId": "07022913227487839600"
          }
        },
        "outputId": "4a63046a-52b5-4082-ccfb-ba9958fa03d5"
      },
      "execution_count": 40,
      "outputs": [
        {
          "output_type": "stream",
          "name": "stdout",
          "text": [
            "              precision    recall  f1-score   support\n",
            "\n",
            "           0       0.87      0.99      0.93       376\n",
            "           1       0.78      0.25      0.38        72\n",
            "\n",
            "    accuracy                           0.87       448\n",
            "   macro avg       0.83      0.62      0.65       448\n",
            "weighted avg       0.86      0.87      0.84       448\n",
            "\n"
          ]
        }
      ]
    },
    {
      "cell_type": "markdown",
      "source": [
        "## Support vector machine model (SVM) :"
      ],
      "metadata": {
        "id": "YvVMb1jtmSQJ"
      }
    },
    {
      "cell_type": "code",
      "source": [
        "from sklearn import svm\n",
        "#clf =svm.SVC(kernel= 'linear')\n",
        "clf = svm.SVC(kernel='rbf')\n",
        "clf.fit(X_train, y_train) \n",
        "\n",
        "yhat_svm = clf.predict(X_test)\n",
        "print (classification_report(y_test, yhat_svm))"
      ],
      "metadata": {
        "colab": {
          "base_uri": "https://localhost:8080/"
        },
        "id": "T4vbgJxTmvdz",
        "executionInfo": {
          "status": "ok",
          "timestamp": 1640957470600,
          "user_tz": -360,
          "elapsed": 110,
          "user": {
            "displayName": "Md Imran",
            "photoUrl": "https://lh3.googleusercontent.com/a/default-user=s64",
            "userId": "07022913227487839600"
          }
        },
        "outputId": "3235ebcd-9efc-4cbc-fe31-74ae4ab2a78c"
      },
      "execution_count": 41,
      "outputs": [
        {
          "output_type": "stream",
          "name": "stdout",
          "text": [
            "              precision    recall  f1-score   support\n",
            "\n",
            "           0       0.87      0.98      0.92       376\n",
            "           1       0.68      0.26      0.38        72\n",
            "\n",
            "    accuracy                           0.86       448\n",
            "   macro avg       0.78      0.62      0.65       448\n",
            "weighted avg       0.84      0.86      0.83       448\n",
            "\n"
          ]
        }
      ]
    },
    {
      "cell_type": "markdown",
      "source": [
        "## confusion matrics\n",
        "Logistic Regression model performing well. So lets plot confusion matrics:\n"
      ],
      "metadata": {
        "id": "nFibBU-kobR4"
      }
    },
    {
      "cell_type": "code",
      "source": [
        "import itertools\n",
        "def plot_confusion_matrix(cm, classes,\n",
        "                          normalize=False,\n",
        "                          title='Confusion matrix',\n",
        "                          cmap=plt.cm.Blues):\n",
        "    \"\"\"\n",
        "    This function prints and plots the confusion matrix.\n",
        "    Normalization can be applied by setting `normalize=True`.\n",
        "    \"\"\"\n",
        "    if normalize:\n",
        "        cm = cm.astype('float') / cm.sum(axis=1)[:, np.newaxis]\n",
        "        print(\"Normalized confusion matrix\")\n",
        "    else:\n",
        "        print('Confusion matrix, without normalization')\n",
        "\n",
        "    print(cm)\n",
        "\n",
        "    plt.imshow(cm, interpolation='nearest', cmap=cmap)\n",
        "    plt.title(title)\n",
        "    plt.colorbar()\n",
        "    tick_marks = np.arange(len(classes))\n",
        "    plt.xticks(tick_marks, classes, rotation=45)\n",
        "    plt.yticks(tick_marks, classes)\n",
        "\n",
        "    fmt = '.2f' if normalize else 'd'\n",
        "    thresh = cm.max() / 2.\n",
        "    for i, j in itertools.product(range(cm.shape[0]), range(cm.shape[1])):\n",
        "        plt.text(j, i, format(cm[i, j], fmt),\n",
        "                 horizontalalignment=\"center\",\n",
        "                 color=\"white\" if cm[i, j] > thresh else \"black\")\n",
        "\n",
        "    plt.tight_layout()\n",
        "    plt.ylabel('True label')\n",
        "    plt.xlabel('Predicted label')\n",
        "\n",
        "print(confusion_matrix(y_test, yhat_lr, labels=[1,0]))"
      ],
      "metadata": {
        "colab": {
          "base_uri": "https://localhost:8080/"
        },
        "id": "n779upJvn9s3",
        "executionInfo": {
          "status": "ok",
          "timestamp": 1640957471131,
          "user_tz": -360,
          "elapsed": 625,
          "user": {
            "displayName": "Md Imran",
            "photoUrl": "https://lh3.googleusercontent.com/a/default-user=s64",
            "userId": "07022913227487839600"
          }
        },
        "outputId": "a0fe9eb4-f99f-4e12-cc6c-b9cc7548da67"
      },
      "execution_count": 42,
      "outputs": [
        {
          "output_type": "stream",
          "name": "stdout",
          "text": [
            "[[ 18  54]\n",
            " [  5 371]]\n"
          ]
        }
      ]
    },
    {
      "cell_type": "code",
      "source": [
        "# Compute confusion matrix\n",
        "cnf_matrix = confusion_matrix(y_test, yhat_lr, labels=[1,0])\n",
        "np.set_printoptions(precision=2)\n",
        "\n",
        "\n",
        "# Plot non-normalized confusion matrix\n",
        "plt.figure()\n",
        "plot_confusion_matrix(cnf_matrix, classes=['churn=1','churn=0'],normalize= False,  title='Confusion matrix')\n"
      ],
      "metadata": {
        "colab": {
          "base_uri": "https://localhost:8080/",
          "height": 362
        },
        "id": "mIzytbZ7pHuE",
        "executionInfo": {
          "status": "ok",
          "timestamp": 1640957471755,
          "user_tz": -360,
          "elapsed": 647,
          "user": {
            "displayName": "Md Imran",
            "photoUrl": "https://lh3.googleusercontent.com/a/default-user=s64",
            "userId": "07022913227487839600"
          }
        },
        "outputId": "a417d5e1-834d-4881-dee2-d71306b80858"
      },
      "execution_count": 43,
      "outputs": [
        {
          "output_type": "stream",
          "name": "stdout",
          "text": [
            "Confusion matrix, without normalization\n",
            "[[ 18  54]\n",
            " [  5 371]]\n"
          ]
        },
        {
          "output_type": "display_data",
          "data": {
            "image/png": "[encoded data removed]",
            "text/plain": [
              "<Figure size 432x288 with 2 Axes>"
            ]
          },
          "metadata": {}
        }
      ]
    }
  ]
}
