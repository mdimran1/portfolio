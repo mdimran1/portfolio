{
  "cells": [
    {
      "cell_type": "markdown",
      "metadata": {
        "id": "_Fy34SFhe6yn"
      },
      "source": [
        "# Data Analysis \n",
        "\n",
        "---\n",
        "\n",
        "This dataset has different aspects of internal flight information of India.\n",
        "\n",
        "Here we try to finding insight. As example:\n",
        "* we will look at the reasons for the increase in air ticket prices. \n",
        "* Best-selling route ticket \n",
        "* Segmentation according to the airlines.\n",
        "* Widely used route & its causes.\n",
        "* some more confidential insight\n"
      ]
    },
    {
      "cell_type": "code",
      "execution_count": 1,
      "metadata": {
        "id": "VZKNXfuEiNpR",
        "colab": {
          "base_uri": "https://localhost:8080/"
        },
        "executionInfo": {
          "status": "ok",
          "timestamp": 1643815872200,
          "user_tz": -360,
          "elapsed": 2723,
          "user": {
            "displayName": "Md Imran",
            "photoUrl": "https://lh3.googleusercontent.com/a/default-user=s64",
            "userId": "07022913227487839600"
          }
        },
        "outputId": "efd44bd8-fffe-4589-d3c4-142451c72c82"
      },
      "outputs": [
        {
          "output_type": "stream",
          "name": "stdout",
          "text": [
            "Requirement already satisfied: openpyxl==3.0.0 in /usr/local/lib/python3.7/dist-packages (3.0.0)\n",
            "Requirement already satisfied: jdcal in /usr/local/lib/python3.7/dist-packages (from openpyxl==3.0.0) (1.4.1)\n",
            "Requirement already satisfied: et-xmlfile in /usr/local/lib/python3.7/dist-packages (from openpyxl==3.0.0) (1.1.0)\n"
          ]
        }
      ],
      "source": [
        "# Import the necessary modules\n",
        "!pip install openpyxl==3.0.0\n",
        "import numpy as np\n",
        "import pandas as pd\n",
        "import matplotlib.pyplot as plt\n",
        "import seaborn as sns\n",
        "sns.set_theme()\n",
        "%matplotlib inline"
      ]
    },
    {
      "cell_type": "code",
      "execution_count": 2,
      "metadata": {
        "id": "k84dnTzZisxw",
        "executionInfo": {
          "status": "ok",
          "timestamp": 1643815875029,
          "user_tz": -360,
          "elapsed": 2908,
          "user": {
            "displayName": "Md Imran",
            "photoUrl": "https://lh3.googleusercontent.com/a/default-user=s64",
            "userId": "07022913227487839600"
          }
        }
      },
      "outputs": [],
      "source": [
        "# dataset is in form of excel file in github\n",
        "# so link will be added by '?raw=true'\n",
        "url = 'https://github.com/mdimran1/Dataset/blob/main/Flight%20Fare/Data_Train.xlsx?raw=true'\n",
        "data = pd.read_excel(url)\n",
        "\n",
        "# set fow all column display\n",
        "pd.set_option('display.max_columns', None)"
      ]
    },
    {
      "cell_type": "code",
      "execution_count": 3,
      "metadata": {
        "colab": {
          "base_uri": "https://localhost:8080/",
          "height": 606
        },
        "executionInfo": {
          "elapsed": 165,
          "status": "ok",
          "timestamp": 1643815875104,
          "user": {
            "displayName": "Md Imran",
            "photoUrl": "https://lh3.googleusercontent.com/a/default-user=s64",
            "userId": "07022913227487839600"
          },
          "user_tz": -360
        },
        "id": "VQnxxLvgis35",
        "outputId": "bdb44522-0ea2-4dee-c045-446e08d45a65"
      },
      "outputs": [
        {
          "output_type": "execute_result",
          "data": {
            "text/html": [
              "\n",
              "  <div id=\"df-17a92d48-f00c-4bbb-8890-841e6b51c0fc\">\n",
              "    <div class=\"colab-df-container\">\n",
              "      <div>\n",
              "<style scoped>\n",
              "    .dataframe tbody tr th:only-of-type {\n",
              "        vertical-align: middle;\n",
              "    }\n",
              "\n",
              "    .dataframe tbody tr th {\n",
              "        vertical-align: top;\n",
              "    }\n",
              "\n",
              "    .dataframe thead th {\n",
              "        text-align: right;\n",
              "    }\n",
              "</style>\n",
              "<table border=\"1\" class=\"dataframe\">\n",
              "  <thead>\n",
              "    <tr style=\"text-align: right;\">\n",
              "      <th></th>\n",
              "      <th>Airline</th>\n",
              "      <th>Date_of_Journey</th>\n",
              "      <th>Source</th>\n",
              "      <th>Destination</th>\n",
              "      <th>Route</th>\n",
              "      <th>Dep_Time</th>\n",
              "      <th>Arrival_Time</th>\n",
              "      <th>Duration</th>\n",
              "      <th>Total_Stops</th>\n",
              "      <th>Additional_Info</th>\n",
              "      <th>Price</th>\n",
              "    </tr>\n",
              "  </thead>\n",
              "  <tbody>\n",
              "    <tr>\n",
              "      <th>0</th>\n",
              "      <td>IndiGo</td>\n",
              "      <td>24/03/2019</td>\n",
              "      <td>Banglore</td>\n",
              "      <td>New Delhi</td>\n",
              "      <td>BLR → DEL</td>\n",
              "      <td>22:20</td>\n",
              "      <td>01:10 22 Mar</td>\n",
              "      <td>2h 50m</td>\n",
              "      <td>non-stop</td>\n",
              "      <td>No info</td>\n",
              "      <td>3897</td>\n",
              "    </tr>\n",
              "    <tr>\n",
              "      <th>1</th>\n",
              "      <td>Air India</td>\n",
              "      <td>1/05/2019</td>\n",
              "      <td>Kolkata</td>\n",
              "      <td>Banglore</td>\n",
              "      <td>CCU → IXR → BBI → BLR</td>\n",
              "      <td>05:50</td>\n",
              "      <td>13:15</td>\n",
              "      <td>7h 25m</td>\n",
              "      <td>2 stops</td>\n",
              "      <td>No info</td>\n",
              "      <td>7662</td>\n",
              "    </tr>\n",
              "    <tr>\n",
              "      <th>2</th>\n",
              "      <td>Jet Airways</td>\n",
              "      <td>9/06/2019</td>\n",
              "      <td>Delhi</td>\n",
              "      <td>Cochin</td>\n",
              "      <td>DEL → LKO → BOM → COK</td>\n",
              "      <td>09:25</td>\n",
              "      <td>04:25 10 Jun</td>\n",
              "      <td>19h</td>\n",
              "      <td>2 stops</td>\n",
              "      <td>No info</td>\n",
              "      <td>13882</td>\n",
              "    </tr>\n",
              "    <tr>\n",
              "      <th>3</th>\n",
              "      <td>IndiGo</td>\n",
              "      <td>12/05/2019</td>\n",
              "      <td>Kolkata</td>\n",
              "      <td>Banglore</td>\n",
              "      <td>CCU → NAG → BLR</td>\n",
              "      <td>18:05</td>\n",
              "      <td>23:30</td>\n",
              "      <td>5h 25m</td>\n",
              "      <td>1 stop</td>\n",
              "      <td>No info</td>\n",
              "      <td>6218</td>\n",
              "    </tr>\n",
              "    <tr>\n",
              "      <th>4</th>\n",
              "      <td>IndiGo</td>\n",
              "      <td>01/03/2019</td>\n",
              "      <td>Banglore</td>\n",
              "      <td>New Delhi</td>\n",
              "      <td>BLR → NAG → DEL</td>\n",
              "      <td>16:50</td>\n",
              "      <td>21:35</td>\n",
              "      <td>4h 45m</td>\n",
              "      <td>1 stop</td>\n",
              "      <td>No info</td>\n",
              "      <td>13302</td>\n",
              "    </tr>\n",
              "    <tr>\n",
              "      <th>...</th>\n",
              "      <td>...</td>\n",
              "      <td>...</td>\n",
              "      <td>...</td>\n",
              "      <td>...</td>\n",
              "      <td>...</td>\n",
              "      <td>...</td>\n",
              "      <td>...</td>\n",
              "      <td>...</td>\n",
              "      <td>...</td>\n",
              "      <td>...</td>\n",
              "      <td>...</td>\n",
              "    </tr>\n",
              "    <tr>\n",
              "      <th>10668</th>\n",
              "      <td>Jet Airways</td>\n",
              "      <td>9/05/2019</td>\n",
              "      <td>Delhi</td>\n",
              "      <td>Cochin</td>\n",
              "      <td>DEL → JDH → BOM → COK</td>\n",
              "      <td>11:40</td>\n",
              "      <td>19:00</td>\n",
              "      <td>7h 20m</td>\n",
              "      <td>2 stops</td>\n",
              "      <td>No info</td>\n",
              "      <td>21219</td>\n",
              "    </tr>\n",
              "    <tr>\n",
              "      <th>10669</th>\n",
              "      <td>Air India</td>\n",
              "      <td>15/06/2019</td>\n",
              "      <td>Delhi</td>\n",
              "      <td>Cochin</td>\n",
              "      <td>DEL → BOM → COK</td>\n",
              "      <td>08:00</td>\n",
              "      <td>19:15</td>\n",
              "      <td>11h 15m</td>\n",
              "      <td>1 stop</td>\n",
              "      <td>No info</td>\n",
              "      <td>9929</td>\n",
              "    </tr>\n",
              "    <tr>\n",
              "      <th>10670</th>\n",
              "      <td>Air India</td>\n",
              "      <td>12/05/2019</td>\n",
              "      <td>Kolkata</td>\n",
              "      <td>Banglore</td>\n",
              "      <td>CCU → IXR → DEL → BLR</td>\n",
              "      <td>05:50</td>\n",
              "      <td>23:15</td>\n",
              "      <td>17h 25m</td>\n",
              "      <td>2 stops</td>\n",
              "      <td>No info</td>\n",
              "      <td>11411</td>\n",
              "    </tr>\n",
              "    <tr>\n",
              "      <th>10671</th>\n",
              "      <td>Air India</td>\n",
              "      <td>6/06/2019</td>\n",
              "      <td>Mumbai</td>\n",
              "      <td>Hyderabad</td>\n",
              "      <td>BOM → HYD</td>\n",
              "      <td>21:05</td>\n",
              "      <td>22:25</td>\n",
              "      <td>1h 20m</td>\n",
              "      <td>non-stop</td>\n",
              "      <td>No info</td>\n",
              "      <td>3100</td>\n",
              "    </tr>\n",
              "    <tr>\n",
              "      <th>10672</th>\n",
              "      <td>Jet Airways</td>\n",
              "      <td>27/06/2019</td>\n",
              "      <td>Delhi</td>\n",
              "      <td>Cochin</td>\n",
              "      <td>DEL → AMD → BOM → COK</td>\n",
              "      <td>23:05</td>\n",
              "      <td>19:00 28 Jun</td>\n",
              "      <td>19h 55m</td>\n",
              "      <td>2 stops</td>\n",
              "      <td>In-flight meal not included</td>\n",
              "      <td>11150</td>\n",
              "    </tr>\n",
              "  </tbody>\n",
              "</table>\n",
              "<p>10673 rows × 11 columns</p>\n",
              "</div>\n",
              "      <button class=\"colab-df-convert\" onclick=\"convertToInteractive('df-17a92d48-f00c-4bbb-8890-841e6b51c0fc')\"\n",
              "              title=\"Convert this dataframe to an interactive table.\"\n",
              "              style=\"display:none;\">\n",
              "        \n",
              "  <svg xmlns=\"http://www.w3.org/2000/svg\" height=\"24px\"viewBox=\"0 0 24 24\"\n",
              "       width=\"24px\">\n",
              "    <path d=\"M0 0h24v24H0V0z\" fill=\"none\"/>\n",
              "    <path d=\"M18.56 5.44l.94 2.06.94-2.06 2.06-.94-2.06-.94-.94-2.06-.94 2.06-2.06.94zm-11 1L8.5 8.5l.94-2.06 2.06-.94-2.06-.94L8.5 2.5l-.94 2.06-2.06.94zm10 10l.94 2.06.94-2.06 2.06-.94-2.06-.94-.94-2.06-.94 2.06-2.06.94z\"/><path d=\"M17.41 7.96l-1.37-1.37c-.4-.4-.92-.59-1.43-.59-.52 0-1.04.2-1.43.59L10.3 9.45l-7.72 7.72c-.78.78-.78 2.05 0 2.83L4 21.41c.39.39.9.59 1.41.59.51 0 1.02-.2 1.41-.59l7.78-7.78 2.81-2.81c.8-.78.8-2.07 0-2.86zM5.41 20L4 18.59l7.72-7.72 1.47 1.35L5.41 20z\"/>\n",
              "  </svg>\n",
              "      </button>\n",
              "      \n",
              "  <style>\n",
              "    .colab-df-container {\n",
              "      display:flex;\n",
              "      flex-wrap:wrap;\n",
              "      gap: 12px;\n",
              "    }\n",
              "\n",
              "    .colab-df-convert {\n",
              "      background-color: #E8F0FE;\n",
              "      border: none;\n",
              "      border-radius: 50%;\n",
              "      cursor: pointer;\n",
              "      display: none;\n",
              "      fill: #1967D2;\n",
              "      height: 32px;\n",
              "      padding: 0 0 0 0;\n",
              "      width: 32px;\n",
              "    }\n",
              "\n",
              "    .colab-df-convert:hover {\n",
              "      background-color: #E2EBFA;\n",
              "      box-shadow: 0px 1px 2px rgba(60, 64, 67, 0.3), 0px 1px 3px 1px rgba(60, 64, 67, 0.15);\n",
              "      fill: #174EA6;\n",
              "    }\n",
              "\n",
              "    [theme=dark] .colab-df-convert {\n",
              "      background-color: #3B4455;\n",
              "      fill: #D2E3FC;\n",
              "    }\n",
              "\n",
              "    [theme=dark] .colab-df-convert:hover {\n",
              "      background-color: #434B5C;\n",
              "      box-shadow: 0px 1px 3px 1px rgba(0, 0, 0, 0.15);\n",
              "      filter: drop-shadow(0px 1px 2px rgba(0, 0, 0, 0.3));\n",
              "      fill: #FFFFFF;\n",
              "    }\n",
              "  </style>\n",
              "\n",
              "      <script>\n",
              "        const buttonEl =\n",
              "          document.querySelector('#df-17a92d48-f00c-4bbb-8890-841e6b51c0fc button.colab-df-convert');\n",
              "        buttonEl.style.display =\n",
              "          google.colab.kernel.accessAllowed ? 'block' : 'none';\n",
              "\n",
              "        async function convertToInteractive(key) {\n",
              "          const element = document.querySelector('#df-17a92d48-f00c-4bbb-8890-841e6b51c0fc');\n",
              "          const dataTable =\n",
              "            await google.colab.kernel.invokeFunction('convertToInteractive',\n",
              "                                                     [key], {});\n",
              "          if (!dataTable) return;\n",
              "\n",
              "          const docLinkHtml = 'Like what you see? Visit the ' +\n",
              "            '<a target=\"_blank\" href=https://colab.research.google.com/notebooks/data_table.ipynb>data table notebook</a>'\n",
              "            + ' to learn more about interactive tables.';\n",
              "          element.innerHTML = '';\n",
              "          dataTable['output_type'] = 'display_data';\n",
              "          await google.colab.output.renderOutput(dataTable, element);\n",
              "          const docLink = document.createElement('div');\n",
              "          docLink.innerHTML = docLinkHtml;\n",
              "          element.appendChild(docLink);\n",
              "        }\n",
              "      </script>\n",
              "    </div>\n",
              "  </div>\n",
              "  "
            ],
            "text/plain": [
              "           Airline Date_of_Journey    Source Destination  \\\n",
              "0           IndiGo      24/03/2019  Banglore   New Delhi   \n",
              "1        Air India       1/05/2019   Kolkata    Banglore   \n",
              "2      Jet Airways       9/06/2019     Delhi      Cochin   \n",
              "3           IndiGo      12/05/2019   Kolkata    Banglore   \n",
              "4           IndiGo      01/03/2019  Banglore   New Delhi   \n",
              "...            ...             ...       ...         ...   \n",
              "10668  Jet Airways       9/05/2019     Delhi      Cochin   \n",
              "10669    Air India      15/06/2019     Delhi      Cochin   \n",
              "10670    Air India      12/05/2019   Kolkata    Banglore   \n",
              "10671    Air India       6/06/2019    Mumbai   Hyderabad   \n",
              "10672  Jet Airways      27/06/2019     Delhi      Cochin   \n",
              "\n",
              "                       Route Dep_Time  Arrival_Time Duration Total_Stops  \\\n",
              "0                  BLR → DEL    22:20  01:10 22 Mar   2h 50m    non-stop   \n",
              "1      CCU → IXR → BBI → BLR    05:50         13:15   7h 25m     2 stops   \n",
              "2      DEL → LKO → BOM → COK    09:25  04:25 10 Jun      19h     2 stops   \n",
              "3            CCU → NAG → BLR    18:05         23:30   5h 25m      1 stop   \n",
              "4            BLR → NAG → DEL    16:50         21:35   4h 45m      1 stop   \n",
              "...                      ...      ...           ...      ...         ...   \n",
              "10668  DEL → JDH → BOM → COK    11:40         19:00   7h 20m     2 stops   \n",
              "10669        DEL → BOM → COK    08:00         19:15  11h 15m      1 stop   \n",
              "10670  CCU → IXR → DEL → BLR    05:50         23:15  17h 25m     2 stops   \n",
              "10671              BOM → HYD    21:05         22:25   1h 20m    non-stop   \n",
              "10672  DEL → AMD → BOM → COK    23:05  19:00 28 Jun  19h 55m     2 stops   \n",
              "\n",
              "                   Additional_Info  Price  \n",
              "0                          No info   3897  \n",
              "1                          No info   7662  \n",
              "2                          No info  13882  \n",
              "3                          No info   6218  \n",
              "4                          No info  13302  \n",
              "...                            ...    ...  \n",
              "10668                      No info  21219  \n",
              "10669                      No info   9929  \n",
              "10670                      No info  11411  \n",
              "10671                      No info   3100  \n",
              "10672  In-flight meal not included  11150  \n",
              "\n",
              "[10673 rows x 11 columns]"
            ]
          },
          "metadata": {},
          "execution_count": 3
        }
      ],
      "source": [
        "## See the top and last ten rows of data\n",
        "\n",
        "data.head(-10)"
      ]
    },
    {
      "cell_type": "markdown",
      "metadata": {
        "id": "a_sucd7djWSz"
      },
      "source": [
        "**Details of various features of the data set**\n",
        "\n",
        "---\n",
        "**Airline** : This column mentions the names of the companies of different airlines and it is a categorical feature.\n",
        "<br>**Date_of_Journey** : The date of the trip is mentioned here.\n",
        "<br>**Source** : Indicates the station from which the plane departed.\n",
        "<br>**Destination** : The destination of the aircraft is specified.\n",
        "<br>**R **bold text**oute** : Information is available on which routes the aircraft will operate.\n",
        "<br>**Dep_Time** : Mentioned at the start of the journey.\n",
        "<br>**Arrival_Time** :  The time of arrival at the destination is specified.\n",
        "<br>**Duration** : Total travel time is specified in hours and minutes.\n",
        "<br>**Total_Stops** : How many times has the plane taken a break on the way.\n",
        "<br>**Additional_Info** : Other benefits such as whether food, Seat Class is mentioned in this column.\n",
        "<br>**Price** : Flight ticket prices are mentioned"
      ]
    },
    {
      "cell_type": "markdown",
      "metadata": {
        "id": "BKGsN5-bmrOe"
      },
      "source": [
        "## Data Cleaning:"
      ]
    },
    {
      "cell_type": "code",
      "execution_count": 4,
      "metadata": {
        "id": "XBb8Skn8jVAc",
        "executionInfo": {
          "status": "ok",
          "timestamp": 1643815875110,
          "user_tz": -360,
          "elapsed": 160,
          "user": {
            "displayName": "Md Imran",
            "photoUrl": "https://lh3.googleusercontent.com/a/default-user=s64",
            "userId": "07022913227487839600"
          }
        }
      },
      "outputs": [],
      "source": [
        "# Checking if any data is missing or Null:\n",
        "data.isnull().sum()\n",
        "\n",
        "\n",
        "# Note : Root and total_stops are missing 1 record\n",
        "# We might delete this null records \n",
        "\n",
        "data.dropna(axis=0, inplace=True)"
      ]
    },
    {
      "cell_type": "code",
      "execution_count": 5,
      "metadata": {
        "colab": {
          "base_uri": "https://localhost:8080/"
        },
        "executionInfo": {
          "elapsed": 162,
          "status": "ok",
          "timestamp": 1643815875115,
          "user": {
            "displayName": "Md Imran",
            "photoUrl": "https://lh3.googleusercontent.com/a/default-user=s64",
            "userId": "07022913227487839600"
          },
          "user_tz": -360
        },
        "id": "vkn3Zx-Km07k",
        "outputId": "a7b7b86a-e0a4-4fed-918c-77c16388d53e"
      },
      "outputs": [
        {
          "output_type": "stream",
          "name": "stdout",
          "text": [
            "<class 'pandas.core.frame.DataFrame'>\n",
            "Int64Index: 10682 entries, 0 to 10682\n",
            "Data columns (total 11 columns):\n",
            " #   Column           Non-Null Count  Dtype \n",
            "---  ------           --------------  ----- \n",
            " 0   Airline          10682 non-null  object\n",
            " 1   Date_of_Journey  10682 non-null  object\n",
            " 2   Source           10682 non-null  object\n",
            " 3   Destination      10682 non-null  object\n",
            " 4   Route            10682 non-null  object\n",
            " 5   Dep_Time         10682 non-null  object\n",
            " 6   Arrival_Time     10682 non-null  object\n",
            " 7   Duration         10682 non-null  object\n",
            " 8   Total_Stops      10682 non-null  object\n",
            " 9   Additional_Info  10682 non-null  object\n",
            " 10  Price            10682 non-null  int64 \n",
            "dtypes: int64(1), object(10)\n",
            "memory usage: 1001.4+ KB\n"
          ]
        }
      ],
      "source": [
        "# Checking data Type and info:\n",
        "data.info()"
      ]
    },
    {
      "cell_type": "code",
      "execution_count": 6,
      "metadata": {
        "id": "SjyfP_jFny_h",
        "executionInfo": {
          "status": "ok",
          "timestamp": 1643815876729,
          "user_tz": -360,
          "elapsed": 1746,
          "user": {
            "displayName": "Md Imran",
            "photoUrl": "https://lh3.googleusercontent.com/a/default-user=s64",
            "userId": "07022913227487839600"
          }
        }
      },
      "outputs": [],
      "source": [
        "## Date_of_Journey,\tDep_Time,\tArrival_Time,\tDuration \n",
        "# These features were supposed to be in 'datetime64' format but are not\n",
        "# lets reformating this:\n",
        "\n",
        "data['Date_of_Journey']= pd.to_datetime(data.Date_of_Journey,format=\"%d/%m/%Y\")\n",
        "\n",
        "# Dep_Time in times of the day format\n",
        "data['Dep_Time'] = pd.cut(pd.to_datetime(data.Dep_Time).dt.hour,\n",
        "       bins=[0, 6, 12, 18, 24],\n",
        "       labels=['Night', 'Morning', 'Afternoon', 'Evening'],\n",
        "       right=False,\n",
        "       include_lowest=True)\n",
        "\n",
        "\n",
        "# Arrival_Time in times of the day format\n",
        "data['Arrival_Time'] = pd.cut(pd.to_datetime(data.Arrival_Time).dt.hour,\n",
        "       bins=[0, 6, 12, 18, 24],\n",
        "       labels=['Night', 'Morning', 'Afternoon', 'Evening'],\n",
        "       right=False,\n",
        "       include_lowest=True)\n"
      ]
    },
    {
      "cell_type": "markdown",
      "metadata": {
        "id": "gNmKiF7vsKsn"
      },
      "source": [
        "**Route and Total_stops are revealing the same information.**\n",
        "<br> **We drop Route columns**\n",
        "<br> **As a total_stops is in  object, we mighttransform  this into numerical**"
      ]
    },
    {
      "cell_type": "code",
      "execution_count": 7,
      "metadata": {
        "id": "lwvFqsr-rcW4",
        "executionInfo": {
          "status": "ok",
          "timestamp": 1643815876736,
          "user_tz": -360,
          "elapsed": 757,
          "user": {
            "displayName": "Md Imran",
            "photoUrl": "https://lh3.googleusercontent.com/a/default-user=s64",
            "userId": "07022913227487839600"
          }
        }
      },
      "outputs": [],
      "source": [
        "# checking total values count :\n",
        "data.Total_Stops.value_counts()\n",
        "data.Total_Stops.unique()\n",
        "\n",
        "# replacing values as dict for Total_stops :\n",
        "values = {'non-stop':0, '2 stops': 2, '1 stop':1, '3 stops':3, '4 stops':4}\n",
        "#replacing:\n",
        "data['Total_Stops'].replace(values,inplace=True)\n",
        "#droping Route :\n",
        "del data['Route']"
      ]
    },
    {
      "cell_type": "markdown",
      "metadata": {
        "id": "nhQKuyf8u74E"
      },
      "source": [
        "**In Duration column Some information is given in Hour and Minutes and some information is given only in hours or only in minutes<br>So we will do Transforming**"
      ]
    },
    {
      "cell_type": "code",
      "execution_count": 8,
      "metadata": {
        "id": "3XVrQL1ejBt-",
        "executionInfo": {
          "status": "ok",
          "timestamp": 1643815876764,
          "user_tz": -360,
          "elapsed": 771,
          "user": {
            "displayName": "Md Imran",
            "photoUrl": "https://lh3.googleusercontent.com/a/default-user=s64",
            "userId": "07022913227487839600"
          }
        }
      },
      "outputs": [],
      "source": [
        "data.Duration.unique() #checking elements\n",
        "\n",
        "# Transforming 'Duration' feature:\n",
        "lengh = len(data['Duration'])\n",
        "duration = list(data['Duration'])\n",
        "for index in range(lengh):\n",
        "  if 'h' in duration[index] and 'm' not in duration[index]:\n",
        "    duration[index] = duration[index] + ' 0m'\n",
        "  elif 'h' not in duration[index] and 'm' in duration[index]:\n",
        "    duration[index] = '0h ' + duration[index] \n",
        "  else:\n",
        "    pass\n",
        "\n",
        "# reassinging 'Duration' column :\n",
        "data['Duration'] = duration\n",
        "\n",
        "# Now we extract duration in minutes from Duration column :\n",
        "data['Duration_minutes'] = (pd.to_timedelta(data['Duration']).dt.seconds // 60)"
      ]
    },
    {
      "cell_type": "code",
      "source": [
        "data['Destination'].unique()\n",
        "# In Destination feature contains both New Delhi & Delhi, literaly its same\n",
        "# we might transform in one element as Delhi\n",
        "data['Destination'].replace(to_replace='New Delhi',value='Delhi',inplace=True)\n"
      ],
      "metadata": {
        "id": "xr2yOTMaJ4mo",
        "executionInfo": {
          "status": "ok",
          "timestamp": 1643815876766,
          "user_tz": -360,
          "elapsed": 770,
          "user": {
            "displayName": "Md Imran",
            "photoUrl": "https://lh3.googleusercontent.com/a/default-user=s64",
            "userId": "07022913227487839600"
          }
        }
      },
      "execution_count": 9,
      "outputs": []
    },
    {
      "cell_type": "markdown",
      "metadata": {
        "id": "FpGCHFGzwynq"
      },
      "source": [
        "## Feature Extraction"
      ]
    },
    {
      "cell_type": "code",
      "execution_count": 10,
      "metadata": {
        "id": "pQQJHANBA4WJ",
        "executionInfo": {
          "status": "ok",
          "timestamp": 1643815876771,
          "user_tz": -360,
          "elapsed": 770,
          "user": {
            "displayName": "Md Imran",
            "photoUrl": "https://lh3.googleusercontent.com/a/default-user=s64",
            "userId": "07022913227487839600"
          }
        }
      },
      "outputs": [],
      "source": [
        "# extracting days of week and month from Date_of_Journey\n",
        "data['Dep_Month'] = data.Date_of_Journey.dt.month_name() # months\n",
        "data['Dep_Day'] = data.Date_of_Journey.dt.day_name() # days of week"
      ]
    },
    {
      "cell_type": "code",
      "execution_count": 11,
      "metadata": {
        "colab": {
          "base_uri": "https://localhost:8080/"
        },
        "executionInfo": {
          "elapsed": 774,
          "status": "ok",
          "timestamp": 1643815876778,
          "user": {
            "displayName": "Md Imran",
            "photoUrl": "https://lh3.googleusercontent.com/a/default-user=s64",
            "userId": "07022913227487839600"
          },
          "user_tz": -360
        },
        "id": "fpN1dCuoGCEU",
        "outputId": "23fa7e3f-b051-4247-9c48-815ef77bea22"
      },
      "outputs": [
        {
          "output_type": "execute_result",
          "data": {
            "text/plain": [
              "No info                         0.781127\n",
              "In-flight meal not included     0.185546\n",
              "No check-in baggage included    0.029957\n",
              "1 Long layover                  0.001779\n",
              "Change airports                 0.000655\n",
              "Business class                  0.000374\n",
              "No Info                         0.000281\n",
              "1 Short layover                 0.000094\n",
              "Red-eye flight                  0.000094\n",
              "2 Long layover                  0.000094\n",
              "Name: Additional_Info, dtype: float64"
            ]
          },
          "metadata": {},
          "execution_count": 11
        }
      ],
      "source": [
        "data.Additional_Info.value_counts(normalize=True)\n",
        "# Additional_Info is about 78% records has 'no info'\n",
        "# we might drop "
      ]
    },
    {
      "cell_type": "code",
      "execution_count": 12,
      "metadata": {
        "id": "ortOWK20CFAG",
        "executionInfo": {
          "status": "ok",
          "timestamp": 1643815876781,
          "user_tz": -360,
          "elapsed": 753,
          "user": {
            "displayName": "Md Imran",
            "photoUrl": "https://lh3.googleusercontent.com/a/default-user=s64",
            "userId": "07022913227487839600"
          }
        }
      },
      "outputs": [],
      "source": [
        "# droping unnecessery column\n",
        "data.drop(labels=['Duration', 'Date_of_Journey','Additional_Info'], axis=1, inplace=True)"
      ]
    },
    {
      "cell_type": "code",
      "execution_count": 13,
      "metadata": {
        "colab": {
          "base_uri": "https://localhost:8080/",
          "height": 206
        },
        "executionInfo": {
          "elapsed": 754,
          "status": "ok",
          "timestamp": 1643815876785,
          "user": {
            "displayName": "Md Imran",
            "photoUrl": "https://lh3.googleusercontent.com/a/default-user=s64",
            "userId": "07022913227487839600"
          },
          "user_tz": -360
        },
        "id": "ChPA2iJqFpBd",
        "outputId": "d3a89b93-587e-4cd4-8f7e-991517d280fd"
      },
      "outputs": [
        {
          "output_type": "execute_result",
          "data": {
            "text/html": [
              "\n",
              "  <div id=\"df-c78961e7-51b3-49c3-8784-8fc525caefee\">\n",
              "    <div class=\"colab-df-container\">\n",
              "      <div>\n",
              "<style scoped>\n",
              "    .dataframe tbody tr th:only-of-type {\n",
              "        vertical-align: middle;\n",
              "    }\n",
              "\n",
              "    .dataframe tbody tr th {\n",
              "        vertical-align: top;\n",
              "    }\n",
              "\n",
              "    .dataframe thead th {\n",
              "        text-align: right;\n",
              "    }\n",
              "</style>\n",
              "<table border=\"1\" class=\"dataframe\">\n",
              "  <thead>\n",
              "    <tr style=\"text-align: right;\">\n",
              "      <th></th>\n",
              "      <th>Airline</th>\n",
              "      <th>Source</th>\n",
              "      <th>Destination</th>\n",
              "      <th>Dep_Time</th>\n",
              "      <th>Arrival_Time</th>\n",
              "      <th>Total_Stops</th>\n",
              "      <th>Price</th>\n",
              "      <th>Duration_minutes</th>\n",
              "      <th>Dep_Month</th>\n",
              "      <th>Dep_Day</th>\n",
              "    </tr>\n",
              "  </thead>\n",
              "  <tbody>\n",
              "    <tr>\n",
              "      <th>0</th>\n",
              "      <td>IndiGo</td>\n",
              "      <td>Banglore</td>\n",
              "      <td>Delhi</td>\n",
              "      <td>Evening</td>\n",
              "      <td>Night</td>\n",
              "      <td>0</td>\n",
              "      <td>3897</td>\n",
              "      <td>170</td>\n",
              "      <td>March</td>\n",
              "      <td>Sunday</td>\n",
              "    </tr>\n",
              "    <tr>\n",
              "      <th>1</th>\n",
              "      <td>Air India</td>\n",
              "      <td>Kolkata</td>\n",
              "      <td>Banglore</td>\n",
              "      <td>Night</td>\n",
              "      <td>Afternoon</td>\n",
              "      <td>2</td>\n",
              "      <td>7662</td>\n",
              "      <td>445</td>\n",
              "      <td>May</td>\n",
              "      <td>Wednesday</td>\n",
              "    </tr>\n",
              "    <tr>\n",
              "      <th>2</th>\n",
              "      <td>Jet Airways</td>\n",
              "      <td>Delhi</td>\n",
              "      <td>Cochin</td>\n",
              "      <td>Morning</td>\n",
              "      <td>Night</td>\n",
              "      <td>2</td>\n",
              "      <td>13882</td>\n",
              "      <td>1140</td>\n",
              "      <td>June</td>\n",
              "      <td>Sunday</td>\n",
              "    </tr>\n",
              "    <tr>\n",
              "      <th>3</th>\n",
              "      <td>IndiGo</td>\n",
              "      <td>Kolkata</td>\n",
              "      <td>Banglore</td>\n",
              "      <td>Evening</td>\n",
              "      <td>Evening</td>\n",
              "      <td>1</td>\n",
              "      <td>6218</td>\n",
              "      <td>325</td>\n",
              "      <td>May</td>\n",
              "      <td>Sunday</td>\n",
              "    </tr>\n",
              "    <tr>\n",
              "      <th>4</th>\n",
              "      <td>IndiGo</td>\n",
              "      <td>Banglore</td>\n",
              "      <td>Delhi</td>\n",
              "      <td>Afternoon</td>\n",
              "      <td>Evening</td>\n",
              "      <td>1</td>\n",
              "      <td>13302</td>\n",
              "      <td>285</td>\n",
              "      <td>March</td>\n",
              "      <td>Friday</td>\n",
              "    </tr>\n",
              "  </tbody>\n",
              "</table>\n",
              "</div>\n",
              "      <button class=\"colab-df-convert\" onclick=\"convertToInteractive('df-c78961e7-51b3-49c3-8784-8fc525caefee')\"\n",
              "              title=\"Convert this dataframe to an interactive table.\"\n",
              "              style=\"display:none;\">\n",
              "        \n",
              "  <svg xmlns=\"http://www.w3.org/2000/svg\" height=\"24px\"viewBox=\"0 0 24 24\"\n",
              "       width=\"24px\">\n",
              "    <path d=\"M0 0h24v24H0V0z\" fill=\"none\"/>\n",
              "    <path d=\"M18.56 5.44l.94 2.06.94-2.06 2.06-.94-2.06-.94-.94-2.06-.94 2.06-2.06.94zm-11 1L8.5 8.5l.94-2.06 2.06-.94-2.06-.94L8.5 2.5l-.94 2.06-2.06.94zm10 10l.94 2.06.94-2.06 2.06-.94-2.06-.94-.94-2.06-.94 2.06-2.06.94z\"/><path d=\"M17.41 7.96l-1.37-1.37c-.4-.4-.92-.59-1.43-.59-.52 0-1.04.2-1.43.59L10.3 9.45l-7.72 7.72c-.78.78-.78 2.05 0 2.83L4 21.41c.39.39.9.59 1.41.59.51 0 1.02-.2 1.41-.59l7.78-7.78 2.81-2.81c.8-.78.8-2.07 0-2.86zM5.41 20L4 18.59l7.72-7.72 1.47 1.35L5.41 20z\"/>\n",
              "  </svg>\n",
              "      </button>\n",
              "      \n",
              "  <style>\n",
              "    .colab-df-container {\n",
              "      display:flex;\n",
              "      flex-wrap:wrap;\n",
              "      gap: 12px;\n",
              "    }\n",
              "\n",
              "    .colab-df-convert {\n",
              "      background-color: #E8F0FE;\n",
              "      border: none;\n",
              "      border-radius: 50%;\n",
              "      cursor: pointer;\n",
              "      display: none;\n",
              "      fill: #1967D2;\n",
              "      height: 32px;\n",
              "      padding: 0 0 0 0;\n",
              "      width: 32px;\n",
              "    }\n",
              "\n",
              "    .colab-df-convert:hover {\n",
              "      background-color: #E2EBFA;\n",
              "      box-shadow: 0px 1px 2px rgba(60, 64, 67, 0.3), 0px 1px 3px 1px rgba(60, 64, 67, 0.15);\n",
              "      fill: #174EA6;\n",
              "    }\n",
              "\n",
              "    [theme=dark] .colab-df-convert {\n",
              "      background-color: #3B4455;\n",
              "      fill: #D2E3FC;\n",
              "    }\n",
              "\n",
              "    [theme=dark] .colab-df-convert:hover {\n",
              "      background-color: #434B5C;\n",
              "      box-shadow: 0px 1px 3px 1px rgba(0, 0, 0, 0.15);\n",
              "      filter: drop-shadow(0px 1px 2px rgba(0, 0, 0, 0.3));\n",
              "      fill: #FFFFFF;\n",
              "    }\n",
              "  </style>\n",
              "\n",
              "      <script>\n",
              "        const buttonEl =\n",
              "          document.querySelector('#df-c78961e7-51b3-49c3-8784-8fc525caefee button.colab-df-convert');\n",
              "        buttonEl.style.display =\n",
              "          google.colab.kernel.accessAllowed ? 'block' : 'none';\n",
              "\n",
              "        async function convertToInteractive(key) {\n",
              "          const element = document.querySelector('#df-c78961e7-51b3-49c3-8784-8fc525caefee');\n",
              "          const dataTable =\n",
              "            await google.colab.kernel.invokeFunction('convertToInteractive',\n",
              "                                                     [key], {});\n",
              "          if (!dataTable) return;\n",
              "\n",
              "          const docLinkHtml = 'Like what you see? Visit the ' +\n",
              "            '<a target=\"_blank\" href=https://colab.research.google.com/notebooks/data_table.ipynb>data table notebook</a>'\n",
              "            + ' to learn more about interactive tables.';\n",
              "          element.innerHTML = '';\n",
              "          dataTable['output_type'] = 'display_data';\n",
              "          await google.colab.output.renderOutput(dataTable, element);\n",
              "          const docLink = document.createElement('div');\n",
              "          docLink.innerHTML = docLinkHtml;\n",
              "          element.appendChild(docLink);\n",
              "        }\n",
              "      </script>\n",
              "    </div>\n",
              "  </div>\n",
              "  "
            ],
            "text/plain": [
              "       Airline    Source Destination   Dep_Time Arrival_Time  Total_Stops  \\\n",
              "0       IndiGo  Banglore       Delhi    Evening        Night            0   \n",
              "1    Air India   Kolkata    Banglore      Night    Afternoon            2   \n",
              "2  Jet Airways     Delhi      Cochin    Morning        Night            2   \n",
              "3       IndiGo   Kolkata    Banglore    Evening      Evening            1   \n",
              "4       IndiGo  Banglore       Delhi  Afternoon      Evening            1   \n",
              "\n",
              "   Price  Duration_minutes Dep_Month    Dep_Day  \n",
              "0   3897               170     March     Sunday  \n",
              "1   7662               445       May  Wednesday  \n",
              "2  13882              1140      June     Sunday  \n",
              "3   6218               325       May     Sunday  \n",
              "4  13302               285     March     Friday  "
            ]
          },
          "metadata": {},
          "execution_count": 13
        }
      ],
      "source": [
        "data.head()\n",
        "#### data is ready for further analysis"
      ]
    },
    {
      "cell_type": "markdown",
      "metadata": {
        "id": "Hh0G5YyWIH0v"
      },
      "source": [
        "## Exploratory Analysis and visualization :\n",
        "\n",
        "---\n",
        "we might do data analysis for or finding inside and hidden pattern. Some information will be noted below and visualizations are given below. \n",
        "\n",
        "**Percentage of Metrix in dataset :**\n",
        "\n",
        "1. Jet Airways handled 36% of the total travel, That's the decent thing that they do. **(fig - 1)**\n",
        "2. About half of the journey starts from Delhi. Kolkata & Banglore can be a potential source of travel. **(fig - 2)**\n",
        "\n",
        "3. Most of the Flights started In morning shift. Morning shift is a sparkling point for Air Flight in India. **(Fig-3)**\n",
        "4. Nearly half of the journeys are conducted by One Stop Flight and the second most frequent flight is Non-stop or direct Flight. **(fig-5)**\n",
        "5. It is seen that most Flights are conducted in May and June. **(Fig-4)**\n",
        "6. From Chennai only one flights left for Kolkata. <br> Travel to Kolkata has Only non-stop Flights. Besides, the proportion of non-stop Flights is higher in Delhi and Hyderabad **(\"Figure-8)** <br> Chennai has only Non-Stop flight **(fig-9)**\n",
        "\n",
        "\n",
        "<br>**Insight that contributes to Price :**\n",
        "\n",
        "1. Among other airlines 'Jet Airways Business' has more valuable price range. **(fig-6)**\n",
        "2. Most valuable price paid for Source as \"Delhi\". <br>Ticket prices are highest on all flights departing from Delhi. And the lowest is 'Chennai'. **(Fig-7)**\n",
        "<br> \n"
      ]
    },
    {
      "cell_type": "code",
      "execution_count": 14,
      "metadata": {
        "id": "tgRNhnuaJcAt",
        "executionInfo": {
          "status": "ok",
          "timestamp": 1643815876826,
          "user_tz": -360,
          "elapsed": 776,
          "user": {
            "displayName": "Md Imran",
            "photoUrl": "https://lh3.googleusercontent.com/a/default-user=s64",
            "userId": "07022913227487839600"
          }
        }
      },
      "outputs": [],
      "source": [
        "# The summary of each column and the percentage of its own attributes\n",
        "\n",
        "# for column in data.columns:\n",
        "#   print(data[[column]].value_counts(normalize=True).reset_index())\n",
        "#   print('='*50)"
      ]
    },
    {
      "cell_type": "code",
      "execution_count": 15,
      "metadata": {
        "colab": {
          "base_uri": "https://localhost:8080/",
          "height": 425
        },
        "executionInfo": {
          "elapsed": 777,
          "status": "ok",
          "timestamp": 1643815876830,
          "user": {
            "displayName": "Md Imran",
            "photoUrl": "https://lh3.googleusercontent.com/a/default-user=s64",
            "userId": "07022913227487839600"
          },
          "user_tz": -360
        },
        "id": "BqHCp2Kmv0li",
        "outputId": "8ed09790-a468-4ef2-f3ca-ede4e2007c92"
      },
      "outputs": [
        {
          "output_type": "execute_result",
          "data": {
            "text/html": [
              "\n",
              "  <div id=\"df-8da7514e-3034-41d3-a75b-e49824ce7e63\">\n",
              "    <div class=\"colab-df-container\">\n",
              "      <div>\n",
              "<style scoped>\n",
              "    .dataframe tbody tr th:only-of-type {\n",
              "        vertical-align: middle;\n",
              "    }\n",
              "\n",
              "    .dataframe tbody tr th {\n",
              "        vertical-align: top;\n",
              "    }\n",
              "\n",
              "    .dataframe thead th {\n",
              "        text-align: right;\n",
              "    }\n",
              "</style>\n",
              "<table border=\"1\" class=\"dataframe\">\n",
              "  <thead>\n",
              "    <tr style=\"text-align: right;\">\n",
              "      <th></th>\n",
              "      <th>Airline</th>\n",
              "      <th>Percentage</th>\n",
              "    </tr>\n",
              "  </thead>\n",
              "  <tbody>\n",
              "    <tr>\n",
              "      <th>0</th>\n",
              "      <td>Jet Airways</td>\n",
              "      <td>36.032578</td>\n",
              "    </tr>\n",
              "    <tr>\n",
              "      <th>1</th>\n",
              "      <td>IndiGo</td>\n",
              "      <td>19.219247</td>\n",
              "    </tr>\n",
              "    <tr>\n",
              "      <th>2</th>\n",
              "      <td>Air India</td>\n",
              "      <td>16.392061</td>\n",
              "    </tr>\n",
              "    <tr>\n",
              "      <th>3</th>\n",
              "      <td>Multiple carriers</td>\n",
              "      <td>11.196405</td>\n",
              "    </tr>\n",
              "    <tr>\n",
              "      <th>4</th>\n",
              "      <td>SpiceJet</td>\n",
              "      <td>7.657742</td>\n",
              "    </tr>\n",
              "    <tr>\n",
              "      <th>5</th>\n",
              "      <td>Vistara</td>\n",
              "      <td>4.484179</td>\n",
              "    </tr>\n",
              "    <tr>\n",
              "      <th>6</th>\n",
              "      <td>Air Asia</td>\n",
              "      <td>2.986332</td>\n",
              "    </tr>\n",
              "    <tr>\n",
              "      <th>7</th>\n",
              "      <td>GoAir</td>\n",
              "      <td>1.816139</td>\n",
              "    </tr>\n",
              "    <tr>\n",
              "      <th>8</th>\n",
              "      <td>Multiple carriers Premium economy</td>\n",
              "      <td>0.121700</td>\n",
              "    </tr>\n",
              "    <tr>\n",
              "      <th>9</th>\n",
              "      <td>Jet Airways Business</td>\n",
              "      <td>0.056169</td>\n",
              "    </tr>\n",
              "    <tr>\n",
              "      <th>10</th>\n",
              "      <td>Vistara Premium economy</td>\n",
              "      <td>0.028085</td>\n",
              "    </tr>\n",
              "    <tr>\n",
              "      <th>11</th>\n",
              "      <td>Trujet</td>\n",
              "      <td>0.009362</td>\n",
              "    </tr>\n",
              "  </tbody>\n",
              "</table>\n",
              "</div>\n",
              "      <button class=\"colab-df-convert\" onclick=\"convertToInteractive('df-8da7514e-3034-41d3-a75b-e49824ce7e63')\"\n",
              "              title=\"Convert this dataframe to an interactive table.\"\n",
              "              style=\"display:none;\">\n",
              "        \n",
              "  <svg xmlns=\"http://www.w3.org/2000/svg\" height=\"24px\"viewBox=\"0 0 24 24\"\n",
              "       width=\"24px\">\n",
              "    <path d=\"M0 0h24v24H0V0z\" fill=\"none\"/>\n",
              "    <path d=\"M18.56 5.44l.94 2.06.94-2.06 2.06-.94-2.06-.94-.94-2.06-.94 2.06-2.06.94zm-11 1L8.5 8.5l.94-2.06 2.06-.94-2.06-.94L8.5 2.5l-.94 2.06-2.06.94zm10 10l.94 2.06.94-2.06 2.06-.94-2.06-.94-.94-2.06-.94 2.06-2.06.94z\"/><path d=\"M17.41 7.96l-1.37-1.37c-.4-.4-.92-.59-1.43-.59-.52 0-1.04.2-1.43.59L10.3 9.45l-7.72 7.72c-.78.78-.78 2.05 0 2.83L4 21.41c.39.39.9.59 1.41.59.51 0 1.02-.2 1.41-.59l7.78-7.78 2.81-2.81c.8-.78.8-2.07 0-2.86zM5.41 20L4 18.59l7.72-7.72 1.47 1.35L5.41 20z\"/>\n",
              "  </svg>\n",
              "      </button>\n",
              "      \n",
              "  <style>\n",
              "    .colab-df-container {\n",
              "      display:flex;\n",
              "      flex-wrap:wrap;\n",
              "      gap: 12px;\n",
              "    }\n",
              "\n",
              "    .colab-df-convert {\n",
              "      background-color: #E8F0FE;\n",
              "      border: none;\n",
              "      border-radius: 50%;\n",
              "      cursor: pointer;\n",
              "      display: none;\n",
              "      fill: #1967D2;\n",
              "      height: 32px;\n",
              "      padding: 0 0 0 0;\n",
              "      width: 32px;\n",
              "    }\n",
              "\n",
              "    .colab-df-convert:hover {\n",
              "      background-color: #E2EBFA;\n",
              "      box-shadow: 0px 1px 2px rgba(60, 64, 67, 0.3), 0px 1px 3px 1px rgba(60, 64, 67, 0.15);\n",
              "      fill: #174EA6;\n",
              "    }\n",
              "\n",
              "    [theme=dark] .colab-df-convert {\n",
              "      background-color: #3B4455;\n",
              "      fill: #D2E3FC;\n",
              "    }\n",
              "\n",
              "    [theme=dark] .colab-df-convert:hover {\n",
              "      background-color: #434B5C;\n",
              "      box-shadow: 0px 1px 3px 1px rgba(0, 0, 0, 0.15);\n",
              "      filter: drop-shadow(0px 1px 2px rgba(0, 0, 0, 0.3));\n",
              "      fill: #FFFFFF;\n",
              "    }\n",
              "  </style>\n",
              "\n",
              "      <script>\n",
              "        const buttonEl =\n",
              "          document.querySelector('#df-8da7514e-3034-41d3-a75b-e49824ce7e63 button.colab-df-convert');\n",
              "        buttonEl.style.display =\n",
              "          google.colab.kernel.accessAllowed ? 'block' : 'none';\n",
              "\n",
              "        async function convertToInteractive(key) {\n",
              "          const element = document.querySelector('#df-8da7514e-3034-41d3-a75b-e49824ce7e63');\n",
              "          const dataTable =\n",
              "            await google.colab.kernel.invokeFunction('convertToInteractive',\n",
              "                                                     [key], {});\n",
              "          if (!dataTable) return;\n",
              "\n",
              "          const docLinkHtml = 'Like what you see? Visit the ' +\n",
              "            '<a target=\"_blank\" href=https://colab.research.google.com/notebooks/data_table.ipynb>data table notebook</a>'\n",
              "            + ' to learn more about interactive tables.';\n",
              "          element.innerHTML = '';\n",
              "          dataTable['output_type'] = 'display_data';\n",
              "          await google.colab.output.renderOutput(dataTable, element);\n",
              "          const docLink = document.createElement('div');\n",
              "          docLink.innerHTML = docLinkHtml;\n",
              "          element.appendChild(docLink);\n",
              "        }\n",
              "      </script>\n",
              "    </div>\n",
              "  </div>\n",
              "  "
            ],
            "text/plain": [
              "                              Airline  Percentage\n",
              "0                         Jet Airways   36.032578\n",
              "1                              IndiGo   19.219247\n",
              "2                           Air India   16.392061\n",
              "3                   Multiple carriers   11.196405\n",
              "4                            SpiceJet    7.657742\n",
              "5                             Vistara    4.484179\n",
              "6                            Air Asia    2.986332\n",
              "7                               GoAir    1.816139\n",
              "8   Multiple carriers Premium economy    0.121700\n",
              "9                Jet Airways Business    0.056169\n",
              "10            Vistara Premium economy    0.028085\n",
              "11                             Trujet    0.009362"
            ]
          },
          "metadata": {},
          "execution_count": 15
        }
      ],
      "source": [
        "#  finding percentage of airlines operation \n",
        "percnt_air = data[['Airline']].value_counts(normalize=True).mul(100)\n",
        "pd.DataFrame(percnt_air,columns=['Percentage']).reset_index()\n"
      ]
    },
    {
      "cell_type": "code",
      "execution_count": 16,
      "metadata": {
        "colab": {
          "base_uri": "https://localhost:8080/",
          "height": 507
        },
        "executionInfo": {
          "elapsed": 2600,
          "status": "ok",
          "timestamp": 1643815878662,
          "user": {
            "displayName": "Md Imran",
            "photoUrl": "https://lh3.googleusercontent.com/a/default-user=s64",
            "userId": "07022913227487839600"
          },
          "user_tz": -360
        },
        "id": "cJNBQgoBGS-x",
        "outputId": "1758f0a7-eb1f-4a5b-b1dd-0bf005a1c93e"
      },
      "outputs": [
        {
          "output_type": "display_data",
          "data": {
            "image/png": "[encoded data removed]",
            "text/plain": [
              "<Figure size 864x576 with 1 Axes>"
            ]
          },
          "metadata": {
            "needs_background": "light"
          }
        }
      ],
      "source": [
        "# Visualizatio of total number of flight by airline: \n",
        "\n",
        "plt.figure(figsize=(12,8))\n",
        "data['Airline'].value_counts(ascending=True).plot(kind='barh')\n",
        "plt.title('Figure-1 : Total flights operated by Airlines',fontdict = {'fontsize' : 22})\n",
        "plt.show()"
      ]
    },
    {
      "cell_type": "code",
      "execution_count": 17,
      "metadata": {
        "colab": {
          "base_uri": "https://localhost:8080/",
          "height": 488
        },
        "executionInfo": {
          "elapsed": 266,
          "status": "ok",
          "timestamp": 1643815878671,
          "user": {
            "displayName": "Md Imran",
            "photoUrl": "https://lh3.googleusercontent.com/a/default-user=s64",
            "userId": "07022913227487839600"
          },
          "user_tz": -360
        },
        "id": "3He4_Ddq0Lzz",
        "outputId": "ad491c06-5cda-4084-e68b-52e751d91843"
      },
      "outputs": [
        {
          "output_type": "display_data",
          "data": {
            "image/png": "[encoded data removed]",
            "text/plain": [
              "<Figure size 576x576 with 1 Axes>"
            ]
          },
          "metadata": {}
        }
      ],
      "source": [
        "# Note : About half of the journey starts from Delhi. Kolkata can be a potential source of travel.\n",
        "\n",
        "percent_source = data[['Source']].value_counts()\n",
        "\n",
        "plt.figure(figsize=(8,8))\n",
        "percent_source.plot(kind='pie',autopct='%.00f%%')\n",
        "plt.title('Figure-2: Porpotion of Source port', fontsize=22)\n",
        "plt.show()"
      ]
    },
    {
      "cell_type": "code",
      "execution_count": 18,
      "metadata": {
        "colab": {
          "base_uri": "https://localhost:8080/",
          "height": 523
        },
        "executionInfo": {
          "elapsed": 252,
          "status": "ok",
          "timestamp": 1643815878680,
          "user": {
            "displayName": "Md Imran",
            "photoUrl": "https://lh3.googleusercontent.com/a/default-user=s64",
            "userId": "07022913227487839600"
          },
          "user_tz": -360
        },
        "id": "BkTWWn7u0S8m",
        "outputId": "15d95fc1-e4c6-43fc-b42d-a84ddee426ad"
      },
      "outputs": [
        {
          "output_type": "display_data",
          "data": {
            "image/png": "[encoded data removed]",
            "text/plain": [
              "<Figure size 864x576 with 1 Axes>"
            ]
          },
          "metadata": {
            "needs_background": "light"
          }
        }
      ],
      "source": [
        "# Most of the Flights started In morning shift\n",
        "plt.figure(figsize=(12,8))\n",
        "sns.countplot(x='Dep_Time', data=data)\n",
        "plt.title('Figure-3: Graph of Departure Shift by flights ', fontsize=20)\n",
        "plt.show()"
      ]
    },
    {
      "cell_type": "code",
      "execution_count": 19,
      "metadata": {
        "colab": {
          "base_uri": "https://localhost:8080/",
          "height": 470
        },
        "executionInfo": {
          "elapsed": 5670,
          "status": "ok",
          "timestamp": 1643815884108,
          "user": {
            "displayName": "Md Imran",
            "photoUrl": "https://lh3.googleusercontent.com/a/default-user=s64",
            "userId": "07022913227487839600"
          },
          "user_tz": -360
        },
        "id": "4s7woMji5rNn",
        "outputId": "874ea246-b0ac-4301-80da-6bacd0f9d8be"
      },
      "outputs": [
        {
          "output_type": "display_data",
          "data": {
            "image/png": "[encoded data removed]",
            "text/plain": [
              "<Figure size 864x504 with 1 Axes>"
            ]
          },
          "metadata": {
            "needs_background": "light"
          }
        }
      ],
      "source": [
        "# ploting flight by months\n",
        "\n",
        "plt.figure(figsize=(12,7))\n",
        "sns.countplot(y='Dep_Month', data=data)\n",
        "plt.title('Figure-4: Totals Flights in Month-wise',fontsize=22)\n",
        "plt.show()"
      ]
    },
    {
      "cell_type": "code",
      "execution_count": 20,
      "metadata": {
        "colab": {
          "base_uri": "https://localhost:8080/",
          "height": 523
        },
        "executionInfo": {
          "elapsed": 653,
          "status": "ok",
          "timestamp": 1643815884117,
          "user": {
            "displayName": "Md Imran",
            "photoUrl": "https://lh3.googleusercontent.com/a/default-user=s64",
            "userId": "07022913227487839600"
          },
          "user_tz": -360
        },
        "id": "P0_efgQY9kuJ",
        "outputId": "9d47e5ca-5c54-4fc7-e674-cdfaba01bd07"
      },
      "outputs": [
        {
          "output_type": "display_data",
          "data": {
            "image/png": "[encoded data removed]",
            "text/plain": [
              "<Figure size 720x576 with 1 Axes>"
            ]
          },
          "metadata": {
            "needs_background": "light"
          }
        }
      ],
      "source": [
        "# ploting stopage \n",
        "plt.figure(figsize=(10,8))\n",
        "sns.countplot(x='Total_Stops', data=data )\n",
        "plt.title('Figure-5: Stopage counts for a trips', fontsize='20')\n",
        "plt.show()"
      ]
    },
    {
      "cell_type": "code",
      "execution_count": 21,
      "metadata": {
        "colab": {
          "base_uri": "https://localhost:8080/",
          "height": 819
        },
        "executionInfo": {
          "elapsed": 630,
          "status": "ok",
          "timestamp": 1643815884137,
          "user": {
            "displayName": "Md Imran",
            "photoUrl": "https://lh3.googleusercontent.com/a/default-user=s64",
            "userId": "07022913227487839600"
          },
          "user_tz": -360
        },
        "id": "A_gy7uSm7DqS",
        "outputId": "476d2310-58fc-43f4-bf4d-ed9aa0bfb0c3"
      },
      "outputs": [
        {
          "output_type": "display_data",
          "data": {
            "image/png": "[encoded data removed]",
            "text/plain": [
              "<Figure size 864x720 with 1 Axes>"
            ]
          },
          "metadata": {
            "needs_background": "light"
          }
        }
      ],
      "source": [
        "# 'Jet Airways Business' has more valuable price range\n",
        "plt.figure(figsize=(12,10))\n",
        "sns.boxplot(x='Airline', y='Price', data=data)\n",
        "plt.xticks(rotation=90)\n",
        "plt.title(\"Figure-6 : Price Ranges by Airlines\", fontsize='20')\n",
        "plt.show()"
      ]
    },
    {
      "cell_type": "code",
      "execution_count": 22,
      "metadata": {
        "colab": {
          "base_uri": "https://localhost:8080/",
          "height": 452
        },
        "executionInfo": {
          "elapsed": 597,
          "status": "ok",
          "timestamp": 1643815884143,
          "user": {
            "displayName": "Md Imran",
            "photoUrl": "https://lh3.googleusercontent.com/a/default-user=s64",
            "userId": "07022913227487839600"
          },
          "user_tz": -360
        },
        "id": "B50YfPNNFmb_",
        "outputId": "023fe2f1-e2b5-43fa-ffa1-7d1ec50b3618"
      },
      "outputs": [
        {
          "output_type": "display_data",
          "data": {
            "image/png": "[encoded data removed]",
            "text/plain": [
              "<Figure size 864x504 with 1 Axes>"
            ]
          },
          "metadata": {
            "needs_background": "light"
          }
        }
      ],
      "source": [
        "#  Air fare median from departure wise\n",
        "\n",
        "\n",
        "plt.figure(figsize=(12,7))\n",
        "(data.groupby(['Source'])['Price'].mean()\n",
        ".sort_values(ascending=True)\n",
        ".plot(kind='barh')\n",
        ")\n",
        "plt.title(\"Figure-7 : Mean Air Fare according to the place of departure \", fontsize='20')\n",
        "plt.show()"
      ]
    },
    {
      "cell_type": "code",
      "source": [
        "data.groupby(['Destination','Total_Stops']).count()\n",
        "\n",
        "plt.figure(figsize=(12,9))\n",
        "sns.countplot(y='Destination',data=data,hue='Total_Stops')\n",
        "plt.title(\"Figure-8 : Total Stopage diagram according to the Destination\", fontsize='20')"
      ],
      "metadata": {
        "colab": {
          "base_uri": "https://localhost:8080/",
          "height": 596
        },
        "id": "VBEOqnu4F46B",
        "executionInfo": {
          "status": "ok",
          "timestamp": 1643815884150,
          "user_tz": -360,
          "elapsed": 596,
          "user": {
            "displayName": "Md Imran",
            "photoUrl": "https://lh3.googleusercontent.com/a/default-user=s64",
            "userId": "07022913227487839600"
          }
        },
        "outputId": "4f8cc1d4-237b-4ca5-9595-abace7922123"
      },
      "execution_count": 23,
      "outputs": [
        {
          "output_type": "execute_result",
          "data": {
            "text/plain": [
              "Text(0.5, 1.0, 'Figure-8 : Total Stopage diagram according to the Destination')"
            ]
          },
          "metadata": {},
          "execution_count": 23
        },
        {
          "output_type": "display_data",
          "data": {
            "image/png": "[encoded data removed]",
            "text/plain": [
              "<Figure size 864x648 with 1 Axes>"
            ]
          },
          "metadata": {
            "needs_background": "light"
          }
        }
      ]
    },
    {
      "cell_type": "code",
      "source": [
        "data.groupby(['Source','Total_Stops']).count()\n",
        "\n",
        "plt.figure(figsize=(12,9))\n",
        "sns.countplot(y='Source',data=data,hue='Total_Stops')\n",
        "plt.title(\"Figure-9 : Total Stopage graph according to the Source\", fontsize='20')"
      ],
      "metadata": {
        "colab": {
          "base_uri": "https://localhost:8080/",
          "height": 596
        },
        "executionInfo": {
          "status": "ok",
          "timestamp": 1643815884153,
          "user_tz": -360,
          "elapsed": 559,
          "user": {
            "displayName": "Md Imran",
            "photoUrl": "https://lh3.googleusercontent.com/a/default-user=s64",
            "userId": "07022913227487839600"
          }
        },
        "outputId": "966cd503-36b1-40d8-a950-ee060c17af24",
        "id": "pfGuo6z_Nsxh"
      },
      "execution_count": 24,
      "outputs": [
        {
          "output_type": "execute_result",
          "data": {
            "text/plain": [
              "Text(0.5, 1.0, 'Figure-9 : Total Stopage graph according to the Source')"
            ]
          },
          "metadata": {},
          "execution_count": 24
        },
        {
          "output_type": "display_data",
          "data": {
            "image/png": "[encoded data removed]",
            "text/plain": [
              "<Figure size 864x648 with 1 Axes>"
            ]
          },
          "metadata": {
            "needs_background": "light"
          }
        }
      ]
    },
    {
      "cell_type": "code",
      "source": [
        "data[data['Source']=='Chennai']['Destination'].unique()"
      ],
      "metadata": {
        "colab": {
          "base_uri": "https://localhost:8080/"
        },
        "id": "r9NTWJuWOEZu",
        "executionInfo": {
          "status": "ok",
          "timestamp": 1643815884155,
          "user_tz": -360,
          "elapsed": 541,
          "user": {
            "displayName": "Md Imran",
            "photoUrl": "https://lh3.googleusercontent.com/a/default-user=s64",
            "userId": "07022913227487839600"
          }
        },
        "outputId": "d392bc7c-da52-425f-9c52-fe4689e71af1"
      },
      "execution_count": 25,
      "outputs": [
        {
          "output_type": "execute_result",
          "data": {
            "text/plain": [
              "array(['Kolkata'], dtype=object)"
            ]
          },
          "metadata": {},
          "execution_count": 25
        }
      ]
    },
    {
      "cell_type": "code",
      "source": [
        "sns.countplot(y='Arrival_Time',data=data,hue='Total_Stops')"
      ],
      "metadata": {
        "colab": {
          "base_uri": "https://localhost:8080/",
          "height": 304
        },
        "id": "m11CfFV_Ph6A",
        "executionInfo": {
          "status": "ok",
          "timestamp": 1643815884746,
          "user_tz": -360,
          "elapsed": 1122,
          "user": {
            "displayName": "Md Imran",
            "photoUrl": "https://lh3.googleusercontent.com/a/default-user=s64",
            "userId": "07022913227487839600"
          }
        },
        "outputId": "78ef1534-d845-4f4d-fd2b-0e40c8048039"
      },
      "execution_count": 26,
      "outputs": [
        {
          "output_type": "execute_result",
          "data": {
            "text/plain": [
              "<matplotlib.axes._subplots.AxesSubplot at 0x7fa244b5c2d0>"
            ]
          },
          "metadata": {},
          "execution_count": 26
        },
        {
          "output_type": "display_data",
          "data": {
            "image/png": "[encoded data removed]",
            "text/plain": [
              "<Figure size 432x288 with 1 Axes>"
            ]
          },
          "metadata": {
            "needs_background": "light"
          }
        }
      ]
    },
    {
      "cell_type": "code",
      "execution_count": 27,
      "metadata": {
        "id": "64n5xf5WDlk9",
        "executionInfo": {
          "status": "ok",
          "timestamp": 1643815884751,
          "user_tz": -360,
          "elapsed": 212,
          "user": {
            "displayName": "Md Imran",
            "photoUrl": "https://lh3.googleusercontent.com/a/default-user=s64",
            "userId": "07022913227487839600"
          }
        }
      },
      "outputs": [],
      "source": [
        "# for i in data.columns:\n",
        "#   sns.boxplot(x=i, y= 'Price', data=data)\n",
        "#   plt.show()"
      ]
    },
    {
      "cell_type": "markdown",
      "metadata": {
        "id": "0_EfR6br7BQk"
      },
      "source": [
        "<center><p>Thanks for reading </p></center>"
      ]
    }
  ],
  "metadata": {
    "colab": {
      "name": "github air analysis.ipynb",
      "provenance": [],
      "authorship_tag": "ABX9TyOx5B1l9bwI3DUNO93LzFlA"
    },
    "kernelspec": {
      "display_name": "Python 3",
      "name": "python3"
    },
    "language_info": {
      "name": "python"
    }
  },
  "nbformat": 4,
  "nbformat_minor": 0
}
